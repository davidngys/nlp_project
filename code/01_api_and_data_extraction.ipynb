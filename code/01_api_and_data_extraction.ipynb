{
 "cells": [
  {
   "cell_type": "markdown",
   "metadata": {},
   "source": [
    "# DSI19 Project 3 - Data Extraction\n",
    "---"
   ]
  },
  {
   "cell_type": "markdown",
   "metadata": {},
   "source": [
    "## Table of Contents\n",
    "\n",
    "* [1. Initial Data Exploration](#chapter1)\n",
    "    * [1.1 Initial Data Scrape](#chapter1_1)\n",
    "    * [1.2 Examine Data](#chapter1_2)\n",
    "    * [1.3 Observations](#chapter1_3)\n",
    "    * [1.2 Features Selected](#chapter1_4)\n",
    "* [2. Data Scraping](#chapter2)\n",
    "    * [2.1 Data Extraction Function](#section_2_1)\n",
    "    * [2.2 Pull from Subreddits](#section_2_2)"
   ]
  },
  {
   "cell_type": "code",
   "execution_count": 5,
   "metadata": {},
   "outputs": [],
   "source": [
    "# Library imports\n",
    "import requests\n",
    "import time\n",
    "import pandas as pd\n",
    "import json\n",
    "from IPython.display import clear_output"
   ]
  },
  {
   "cell_type": "markdown",
   "metadata": {},
   "source": [
    "### 1. Initial Data Exploration <a class=\"anchor\" id=\"chapter1\"></a>\n",
    "---"
   ]
  },
  {
   "cell_type": "markdown",
   "metadata": {},
   "source": [
    "The objective is to extract data from the two subreddits, `/r/tifu` and `/r/confessions` in order to build a classification model. Before the model can be built, data exploration needs to be done in order to see how the data pulled using the api is constructed."
   ]
  },
  {
   "cell_type": "markdown",
   "metadata": {},
   "source": [
    "### 1.1 Initial Data Scrape <a class=\"anchor\" id=\"chapter1_1\"></a>"
   ]
  },
  {
   "cell_type": "code",
   "execution_count": 10,
   "metadata": {},
   "outputs": [
    {
     "name": "stdout",
     "output_type": "stream",
     "text": [
      "200\n"
     ]
    }
   ],
   "source": [
    "# Defining the subreddit to be scraped\n",
    "url = 'https://www.reddit.com/r/tifu/.json'\n",
    "\n",
    "# Creating a header parameter for the API\n",
    "headers = {'user-agent':'dnys'}\n",
    "\n",
    "# Requesting data through API\n",
    "res = requests.get(url, headers = headers)\n",
    "print(res.status_code)"
   ]
  },
  {
   "cell_type": "markdown",
   "metadata": {},
   "source": [
    "    Status code of 200 represents a good connection to the url."
   ]
  },
  {
   "cell_type": "markdown",
   "metadata": {},
   "source": [
    "### 1.2 Examine Data <a class=\"anchor\" id=\"chapter1_2\"></a>"
   ]
  },
  {
   "cell_type": "code",
   "execution_count": 11,
   "metadata": {},
   "outputs": [],
   "source": [
    "# Creating data object to store extracted data\n",
    "data = res.json()"
   ]
  },
  {
   "cell_type": "code",
   "execution_count": 12,
   "metadata": {},
   "outputs": [
    {
     "name": "stdout",
     "output_type": "stream",
     "text": [
      "['data', 'kind']\n",
      "Listing\n"
     ]
    }
   ],
   "source": [
    "print(sorted(data.keys())) # Examining keys of extracted data\n",
    "print(data['kind'])"
   ]
  },
  {
   "cell_type": "markdown",
   "metadata": {},
   "source": [
    "Data extracted is a dictionary with 2 keys.\n",
    "- `Data`: where information required is stored\n",
    "- `Kind`: string value"
   ]
  },
  {
   "cell_type": "code",
   "execution_count": 91,
   "metadata": {},
   "outputs": [
    {
     "name": "stdout",
     "output_type": "stream",
     "text": [
      "['after', 'before', 'children', 'dist', 'modhash']\n"
     ]
    }
   ],
   "source": [
    "print(sorted(data['data'].keys())) # Examining keys withink data['data']"
   ]
  },
  {
   "cell_type": "code",
   "execution_count": 13,
   "metadata": {},
   "outputs": [
    {
     "name": "stdout",
     "output_type": "stream",
     "text": [
      "t3_kv3p0o\n",
      "None\n"
     ]
    }
   ],
   "source": [
    "print(data['data']['after']) # Examining values of 'after' key\n",
    "print(data['data']['before']) # Examining values of 'before' key"
   ]
  },
  {
   "cell_type": "code",
   "execution_count": 14,
   "metadata": {},
   "outputs": [
    {
     "data": {
      "text/plain": [
       "{'kind': 't3',\n",
       " 'data': {'approved_at_utc': None,\n",
       "  'subreddit': 'tifu',\n",
       "  'selftext': 'Not a long story but as a new years resolution I told myself I would make an effort to compliment people because it always makes me feel good when I receive one.\\nSo this woman comes in and she\\'s really nice and friendly and as I\\'m making her coffee we are having a chat and she has this huge belt that is absolutely covered in those sparkly jewel thingies. So I say. \"I really like your belt it\\'s really shiny\" she smiles and says \"thanks\" so I go. \"I wish I could pull it off\" not thinking that it could mean something else other than I wish it looked good on me. she blushes and looks down and when I finish her coffee she looks at me and smiles and says \"thanks\" so my assistant manager comes over and she\\'s like \"did you just tell her you wanted to take her belt off?\" My face goes red as I realise what I said. I explained it to my assistant manager who just laughed and told me to think about what i say before I say it \\n\\nTl;dr complimented a customer on her belt and told her I wish I could pull it off.\\n\\nEdit\\nWow I really did not expect this to take off. Glad everyone seems to be enjoying my mistake haha. \\nAlso I\\'m married so there is no chance in this becoming a love story as funny as that would be.',\n",
       "  'author_fullname': 't2_3q0ykzzz',\n",
       "  'saved': False,\n",
       "  'mod_reason_title': None,\n",
       "  'gilded': 0,\n",
       "  'clicked': False,\n",
       "  'title': 'TIFU by accidentally hitting on a customer',\n",
       "  'link_flair_richtext': [],\n",
       "  'subreddit_name_prefixed': 'r/tifu',\n",
       "  'hidden': False,\n",
       "  'pwls': 7,\n",
       "  'link_flair_css_class': 'S',\n",
       "  'downs': 0,\n",
       "  'top_awarded_type': None,\n",
       "  'hide_score': False,\n",
       "  'name': 't3_kv09xh',\n",
       "  'quarantine': False,\n",
       "  'link_flair_text_color': 'light',\n",
       "  'upvote_ratio': 0.95,\n",
       "  'author_flair_background_color': None,\n",
       "  'subreddit_type': 'public',\n",
       "  'ups': 27963,\n",
       "  'total_awards_received': 86,\n",
       "  'media_embed': {},\n",
       "  'author_flair_template_id': None,\n",
       "  'is_original_content': False,\n",
       "  'user_reports': [],\n",
       "  'secure_media': None,\n",
       "  'is_reddit_media_domain': False,\n",
       "  'is_meta': False,\n",
       "  'category': None,\n",
       "  'secure_media_embed': {},\n",
       "  'link_flair_text': 'S',\n",
       "  'can_mod_post': False,\n",
       "  'score': 27963,\n",
       "  'approved_by': None,\n",
       "  'author_premium': False,\n",
       "  'thumbnail': '',\n",
       "  'edited': 1610413033.0,\n",
       "  'author_flair_css_class': None,\n",
       "  'author_flair_richtext': [],\n",
       "  'gildings': {'gid_1': 19},\n",
       "  'content_categories': None,\n",
       "  'is_self': True,\n",
       "  'mod_note': None,\n",
       "  'created': 1610390447.0,\n",
       "  'link_flair_type': 'text',\n",
       "  'wls': 7,\n",
       "  'removed_by_category': None,\n",
       "  'banned_by': None,\n",
       "  'author_flair_type': 'text',\n",
       "  'domain': 'self.tifu',\n",
       "  'allow_live_comments': True,\n",
       "  'selftext_html': '&lt;!-- SC_OFF --&gt;&lt;div class=\"md\"&gt;&lt;p&gt;Not a long story but as a new years resolution I told myself I would make an effort to compliment people because it always makes me feel good when I receive one.\\nSo this woman comes in and she&amp;#39;s really nice and friendly and as I&amp;#39;m making her coffee we are having a chat and she has this huge belt that is absolutely covered in those sparkly jewel thingies. So I say. &amp;quot;I really like your belt it&amp;#39;s really shiny&amp;quot; she smiles and says &amp;quot;thanks&amp;quot; so I go. &amp;quot;I wish I could pull it off&amp;quot; not thinking that it could mean something else other than I wish it looked good on me. she blushes and looks down and when I finish her coffee she looks at me and smiles and says &amp;quot;thanks&amp;quot; so my assistant manager comes over and she&amp;#39;s like &amp;quot;did you just tell her you wanted to take her belt off?&amp;quot; My face goes red as I realise what I said. I explained it to my assistant manager who just laughed and told me to think about what i say before I say it &lt;/p&gt;\\n\\n&lt;p&gt;Tl;dr complimented a customer on her belt and told her I wish I could pull it off.&lt;/p&gt;\\n\\n&lt;p&gt;Edit\\nWow I really did not expect this to take off. Glad everyone seems to be enjoying my mistake haha. \\nAlso I&amp;#39;m married so there is no chance in this becoming a love story as funny as that would be.&lt;/p&gt;\\n&lt;/div&gt;&lt;!-- SC_ON --&gt;',\n",
       "  'likes': None,\n",
       "  'suggested_sort': None,\n",
       "  'banned_at_utc': None,\n",
       "  'view_count': None,\n",
       "  'archived': False,\n",
       "  'no_follow': False,\n",
       "  'is_crosspostable': False,\n",
       "  'pinned': False,\n",
       "  'over_18': False,\n",
       "  'all_awardings': [{'giver_coin_reward': None,\n",
       "    'subreddit_id': None,\n",
       "    'is_new': False,\n",
       "    'days_of_drip_extension': 0,\n",
       "    'coin_price': 150,\n",
       "    'id': 'award_f44611f1-b89e-46dc-97fe-892280b13b82',\n",
       "    'penny_donate': None,\n",
       "    'award_sub_type': 'GLOBAL',\n",
       "    'coin_reward': 0,\n",
       "    'icon_url': 'https://i.redd.it/award_images/t5_22cerq/klvxk1wggfd41_Helpful.png',\n",
       "    'days_of_premium': 0,\n",
       "    'tiers_by_required_awardings': None,\n",
       "    'resized_icons': [{'url': 'https://preview.redd.it/award_images/t5_22cerq/klvxk1wggfd41_Helpful.png?width=16&amp;height=16&amp;auto=webp&amp;s=a5662dfbdb402bf67866c050aa76c31c147c2f45',\n",
       "      'width': 16,\n",
       "      'height': 16},\n",
       "     {'url': 'https://preview.redd.it/award_images/t5_22cerq/klvxk1wggfd41_Helpful.png?width=32&amp;height=32&amp;auto=webp&amp;s=a6882eb3f380e8e88009789f4d0072e17b8c59f1',\n",
       "      'width': 32,\n",
       "      'height': 32},\n",
       "     {'url': 'https://preview.redd.it/award_images/t5_22cerq/klvxk1wggfd41_Helpful.png?width=48&amp;height=48&amp;auto=webp&amp;s=e50064b090879e8a0b55e433f6ee61d5cb5fbe1d',\n",
       "      'width': 48,\n",
       "      'height': 48},\n",
       "     {'url': 'https://preview.redd.it/award_images/t5_22cerq/klvxk1wggfd41_Helpful.png?width=64&amp;height=64&amp;auto=webp&amp;s=8e5bb2e76683cb6b161830bcdd9642049d6adc11',\n",
       "      'width': 64,\n",
       "      'height': 64},\n",
       "     {'url': 'https://preview.redd.it/award_images/t5_22cerq/klvxk1wggfd41_Helpful.png?width=128&amp;height=128&amp;auto=webp&amp;s=eda4a9246f95f42ee6940cc0ec65306fd20de878',\n",
       "      'width': 128,\n",
       "      'height': 128}],\n",
       "    'icon_width': 2048,\n",
       "    'static_icon_width': 2048,\n",
       "    'start_date': None,\n",
       "    'is_enabled': True,\n",
       "    'awardings_required_to_grant_benefits': None,\n",
       "    'description': 'Thank you stranger. Shows the award.',\n",
       "    'end_date': None,\n",
       "    'subreddit_coin_reward': 0,\n",
       "    'count': 15,\n",
       "    'static_icon_height': 2048,\n",
       "    'name': 'Helpful',\n",
       "    'resized_static_icons': [{'url': 'https://preview.redd.it/award_images/t5_22cerq/klvxk1wggfd41_Helpful.png?width=16&amp;height=16&amp;auto=webp&amp;s=a5662dfbdb402bf67866c050aa76c31c147c2f45',\n",
       "      'width': 16,\n",
       "      'height': 16},\n",
       "     {'url': 'https://preview.redd.it/award_images/t5_22cerq/klvxk1wggfd41_Helpful.png?width=32&amp;height=32&amp;auto=webp&amp;s=a6882eb3f380e8e88009789f4d0072e17b8c59f1',\n",
       "      'width': 32,\n",
       "      'height': 32},\n",
       "     {'url': 'https://preview.redd.it/award_images/t5_22cerq/klvxk1wggfd41_Helpful.png?width=48&amp;height=48&amp;auto=webp&amp;s=e50064b090879e8a0b55e433f6ee61d5cb5fbe1d',\n",
       "      'width': 48,\n",
       "      'height': 48},\n",
       "     {'url': 'https://preview.redd.it/award_images/t5_22cerq/klvxk1wggfd41_Helpful.png?width=64&amp;height=64&amp;auto=webp&amp;s=8e5bb2e76683cb6b161830bcdd9642049d6adc11',\n",
       "      'width': 64,\n",
       "      'height': 64},\n",
       "     {'url': 'https://preview.redd.it/award_images/t5_22cerq/klvxk1wggfd41_Helpful.png?width=128&amp;height=128&amp;auto=webp&amp;s=eda4a9246f95f42ee6940cc0ec65306fd20de878',\n",
       "      'width': 128,\n",
       "      'height': 128}],\n",
       "    'icon_format': None,\n",
       "    'icon_height': 2048,\n",
       "    'penny_price': None,\n",
       "    'award_type': 'global',\n",
       "    'static_icon_url': 'https://i.redd.it/award_images/t5_22cerq/klvxk1wggfd41_Helpful.png'},\n",
       "   {'giver_coin_reward': None,\n",
       "    'subreddit_id': None,\n",
       "    'is_new': False,\n",
       "    'days_of_drip_extension': 0,\n",
       "    'coin_price': 125,\n",
       "    'id': 'award_5f123e3d-4f48-42f4-9c11-e98b566d5897',\n",
       "    'penny_donate': None,\n",
       "    'award_sub_type': 'GLOBAL',\n",
       "    'coin_reward': 0,\n",
       "    'icon_url': 'https://i.redd.it/award_images/t5_22cerq/5izbv4fn0md41_Wholesome.png',\n",
       "    'days_of_premium': 0,\n",
       "    'tiers_by_required_awardings': None,\n",
       "    'resized_icons': [{'url': 'https://preview.redd.it/award_images/t5_22cerq/5izbv4fn0md41_Wholesome.png?width=16&amp;height=16&amp;auto=webp&amp;s=92932f465d58e4c16b12b6eac4ca07d27e3d11c0',\n",
       "      'width': 16,\n",
       "      'height': 16},\n",
       "     {'url': 'https://preview.redd.it/award_images/t5_22cerq/5izbv4fn0md41_Wholesome.png?width=32&amp;height=32&amp;auto=webp&amp;s=d11484a208d68a318bf9d4fcf371171a1cb6a7ef',\n",
       "      'width': 32,\n",
       "      'height': 32},\n",
       "     {'url': 'https://preview.redd.it/award_images/t5_22cerq/5izbv4fn0md41_Wholesome.png?width=48&amp;height=48&amp;auto=webp&amp;s=febdf28b6f39f7da7eb1365325b85e0bb49a9f63',\n",
       "      'width': 48,\n",
       "      'height': 48},\n",
       "     {'url': 'https://preview.redd.it/award_images/t5_22cerq/5izbv4fn0md41_Wholesome.png?width=64&amp;height=64&amp;auto=webp&amp;s=b4406a2d88bf86fa3dc8a45aacf7e0c7bdccc4fb',\n",
       "      'width': 64,\n",
       "      'height': 64},\n",
       "     {'url': 'https://preview.redd.it/award_images/t5_22cerq/5izbv4fn0md41_Wholesome.png?width=128&amp;height=128&amp;auto=webp&amp;s=19555b13e3e196b62eeb9160d1ac1d1b372dcb0b',\n",
       "      'width': 128,\n",
       "      'height': 128}],\n",
       "    'icon_width': 2048,\n",
       "    'static_icon_width': 2048,\n",
       "    'start_date': None,\n",
       "    'is_enabled': True,\n",
       "    'awardings_required_to_grant_benefits': None,\n",
       "    'description': 'When you come across a feel-good thing.',\n",
       "    'end_date': None,\n",
       "    'subreddit_coin_reward': 0,\n",
       "    'count': 30,\n",
       "    'static_icon_height': 2048,\n",
       "    'name': 'Wholesome',\n",
       "    'resized_static_icons': [{'url': 'https://preview.redd.it/award_images/t5_22cerq/5izbv4fn0md41_Wholesome.png?width=16&amp;height=16&amp;auto=webp&amp;s=92932f465d58e4c16b12b6eac4ca07d27e3d11c0',\n",
       "      'width': 16,\n",
       "      'height': 16},\n",
       "     {'url': 'https://preview.redd.it/award_images/t5_22cerq/5izbv4fn0md41_Wholesome.png?width=32&amp;height=32&amp;auto=webp&amp;s=d11484a208d68a318bf9d4fcf371171a1cb6a7ef',\n",
       "      'width': 32,\n",
       "      'height': 32},\n",
       "     {'url': 'https://preview.redd.it/award_images/t5_22cerq/5izbv4fn0md41_Wholesome.png?width=48&amp;height=48&amp;auto=webp&amp;s=febdf28b6f39f7da7eb1365325b85e0bb49a9f63',\n",
       "      'width': 48,\n",
       "      'height': 48},\n",
       "     {'url': 'https://preview.redd.it/award_images/t5_22cerq/5izbv4fn0md41_Wholesome.png?width=64&amp;height=64&amp;auto=webp&amp;s=b4406a2d88bf86fa3dc8a45aacf7e0c7bdccc4fb',\n",
       "      'width': 64,\n",
       "      'height': 64},\n",
       "     {'url': 'https://preview.redd.it/award_images/t5_22cerq/5izbv4fn0md41_Wholesome.png?width=128&amp;height=128&amp;auto=webp&amp;s=19555b13e3e196b62eeb9160d1ac1d1b372dcb0b',\n",
       "      'width': 128,\n",
       "      'height': 128}],\n",
       "    'icon_format': None,\n",
       "    'icon_height': 2048,\n",
       "    'penny_price': None,\n",
       "    'award_type': 'global',\n",
       "    'static_icon_url': 'https://i.redd.it/award_images/t5_22cerq/5izbv4fn0md41_Wholesome.png'},\n",
       "   {'giver_coin_reward': None,\n",
       "    'subreddit_id': None,\n",
       "    'is_new': False,\n",
       "    'days_of_drip_extension': 0,\n",
       "    'coin_price': 100,\n",
       "    'id': 'gid_1',\n",
       "    'penny_donate': None,\n",
       "    'award_sub_type': 'GLOBAL',\n",
       "    'coin_reward': 0,\n",
       "    'icon_url': 'https://www.redditstatic.com/gold/awards/icon/silver_512.png',\n",
       "    'days_of_premium': 0,\n",
       "    'tiers_by_required_awardings': None,\n",
       "    'resized_icons': [{'url': 'https://www.redditstatic.com/gold/awards/icon/silver_16.png',\n",
       "      'width': 16,\n",
       "      'height': 16},\n",
       "     {'url': 'https://www.redditstatic.com/gold/awards/icon/silver_32.png',\n",
       "      'width': 32,\n",
       "      'height': 32},\n",
       "     {'url': 'https://www.redditstatic.com/gold/awards/icon/silver_48.png',\n",
       "      'width': 48,\n",
       "      'height': 48},\n",
       "     {'url': 'https://www.redditstatic.com/gold/awards/icon/silver_64.png',\n",
       "      'width': 64,\n",
       "      'height': 64},\n",
       "     {'url': 'https://www.redditstatic.com/gold/awards/icon/silver_128.png',\n",
       "      'width': 128,\n",
       "      'height': 128}],\n",
       "    'icon_width': 512,\n",
       "    'static_icon_width': 512,\n",
       "    'start_date': None,\n",
       "    'is_enabled': True,\n",
       "    'awardings_required_to_grant_benefits': None,\n",
       "    'description': \"Shows the Silver Award... and that's it.\",\n",
       "    'end_date': None,\n",
       "    'subreddit_coin_reward': 0,\n",
       "    'count': 19,\n",
       "    'static_icon_height': 512,\n",
       "    'name': 'Silver',\n",
       "    'resized_static_icons': [{'url': 'https://www.redditstatic.com/gold/awards/icon/silver_16.png',\n",
       "      'width': 16,\n",
       "      'height': 16},\n",
       "     {'url': 'https://www.redditstatic.com/gold/awards/icon/silver_32.png',\n",
       "      'width': 32,\n",
       "      'height': 32},\n",
       "     {'url': 'https://www.redditstatic.com/gold/awards/icon/silver_48.png',\n",
       "      'width': 48,\n",
       "      'height': 48},\n",
       "     {'url': 'https://www.redditstatic.com/gold/awards/icon/silver_64.png',\n",
       "      'width': 64,\n",
       "      'height': 64},\n",
       "     {'url': 'https://www.redditstatic.com/gold/awards/icon/silver_128.png',\n",
       "      'width': 128,\n",
       "      'height': 128}],\n",
       "    'icon_format': None,\n",
       "    'icon_height': 512,\n",
       "    'penny_price': None,\n",
       "    'award_type': 'global',\n",
       "    'static_icon_url': 'https://www.redditstatic.com/gold/awards/icon/silver_512.png'},\n",
       "   {'giver_coin_reward': 0,\n",
       "    'subreddit_id': None,\n",
       "    'is_new': False,\n",
       "    'days_of_drip_extension': 0,\n",
       "    'coin_price': 100,\n",
       "    'id': 'award_19860e30-3331-4bac-b3d1-bd28de0c7974',\n",
       "    'penny_donate': 0,\n",
       "    'award_sub_type': 'GLOBAL',\n",
       "    'coin_reward': 0,\n",
       "    'icon_url': 'https://i.redd.it/award_images/t5_22cerq/v1mxw8i6wnf51_Heartwarming.png',\n",
       "    'days_of_premium': 0,\n",
       "    'tiers_by_required_awardings': None,\n",
       "    'resized_icons': [{'url': 'https://preview.redd.it/award_images/t5_22cerq/v1mxw8i6wnf51_Heartwarming.png?width=16&amp;height=16&amp;auto=webp&amp;s=4e50438bd2d72ae5398e839ac2bdcccf323fca79',\n",
       "      'width': 16,\n",
       "      'height': 16},\n",
       "     {'url': 'https://preview.redd.it/award_images/t5_22cerq/v1mxw8i6wnf51_Heartwarming.png?width=32&amp;height=32&amp;auto=webp&amp;s=e730f68de038499700c6301470812c29ef6a8555',\n",
       "      'width': 32,\n",
       "      'height': 32},\n",
       "     {'url': 'https://preview.redd.it/award_images/t5_22cerq/v1mxw8i6wnf51_Heartwarming.png?width=48&amp;height=48&amp;auto=webp&amp;s=8d7c7fa22e6ff3b1b0a347839e42f493eb5f6cbc',\n",
       "      'width': 48,\n",
       "      'height': 48},\n",
       "     {'url': 'https://preview.redd.it/award_images/t5_22cerq/v1mxw8i6wnf51_Heartwarming.png?width=64&amp;height=64&amp;auto=webp&amp;s=11ec2a72e2724017bb8479639edce8a7f2ba64f4',\n",
       "      'width': 64,\n",
       "      'height': 64},\n",
       "     {'url': 'https://preview.redd.it/award_images/t5_22cerq/v1mxw8i6wnf51_Heartwarming.png?width=128&amp;height=128&amp;auto=webp&amp;s=1e936ae571e89abb5a5aaa2efd2d7cfb0ed1b537',\n",
       "      'width': 128,\n",
       "      'height': 128}],\n",
       "    'icon_width': 2048,\n",
       "    'static_icon_width': 2048,\n",
       "    'start_date': None,\n",
       "    'is_enabled': True,\n",
       "    'awardings_required_to_grant_benefits': None,\n",
       "    'description': 'I needed this today',\n",
       "    'end_date': None,\n",
       "    'subreddit_coin_reward': 0,\n",
       "    'count': 1,\n",
       "    'static_icon_height': 2048,\n",
       "    'name': 'Heartwarming',\n",
       "    'resized_static_icons': [{'url': 'https://preview.redd.it/award_images/t5_22cerq/v1mxw8i6wnf51_Heartwarming.png?width=16&amp;height=16&amp;auto=webp&amp;s=4e50438bd2d72ae5398e839ac2bdcccf323fca79',\n",
       "      'width': 16,\n",
       "      'height': 16},\n",
       "     {'url': 'https://preview.redd.it/award_images/t5_22cerq/v1mxw8i6wnf51_Heartwarming.png?width=32&amp;height=32&amp;auto=webp&amp;s=e730f68de038499700c6301470812c29ef6a8555',\n",
       "      'width': 32,\n",
       "      'height': 32},\n",
       "     {'url': 'https://preview.redd.it/award_images/t5_22cerq/v1mxw8i6wnf51_Heartwarming.png?width=48&amp;height=48&amp;auto=webp&amp;s=8d7c7fa22e6ff3b1b0a347839e42f493eb5f6cbc',\n",
       "      'width': 48,\n",
       "      'height': 48},\n",
       "     {'url': 'https://preview.redd.it/award_images/t5_22cerq/v1mxw8i6wnf51_Heartwarming.png?width=64&amp;height=64&amp;auto=webp&amp;s=11ec2a72e2724017bb8479639edce8a7f2ba64f4',\n",
       "      'width': 64,\n",
       "      'height': 64},\n",
       "     {'url': 'https://preview.redd.it/award_images/t5_22cerq/v1mxw8i6wnf51_Heartwarming.png?width=128&amp;height=128&amp;auto=webp&amp;s=1e936ae571e89abb5a5aaa2efd2d7cfb0ed1b537',\n",
       "      'width': 128,\n",
       "      'height': 128}],\n",
       "    'icon_format': 'PNG',\n",
       "    'icon_height': 2048,\n",
       "    'penny_price': 0,\n",
       "    'award_type': 'global',\n",
       "    'static_icon_url': 'https://i.redd.it/award_images/t5_22cerq/v1mxw8i6wnf51_Heartwarming.png'},\n",
       "   {'giver_coin_reward': 0,\n",
       "    'subreddit_id': None,\n",
       "    'is_new': False,\n",
       "    'days_of_drip_extension': 0,\n",
       "    'coin_price': 80,\n",
       "    'id': 'award_8352bdff-3e03-4189-8a08-82501dd8f835',\n",
       "    'penny_donate': 0,\n",
       "    'award_sub_type': 'GLOBAL',\n",
       "    'coin_reward': 0,\n",
       "    'icon_url': 'https://i.redd.it/award_images/t5_q0gj4/fpm0r5ryq1361_PolarHugs.png',\n",
       "    'days_of_premium': 0,\n",
       "    'tiers_by_required_awardings': None,\n",
       "    'resized_icons': [{'url': 'https://preview.redd.it/award_images/t5_q0gj4/fpm0r5ryq1361_PolarHugs.png?width=16&amp;height=16&amp;auto=webp&amp;s=69997ace3ef4ffc099b81d774c2c8f1530602875',\n",
       "      'width': 16,\n",
       "      'height': 16},\n",
       "     {'url': 'https://preview.redd.it/award_images/t5_q0gj4/fpm0r5ryq1361_PolarHugs.png?width=32&amp;height=32&amp;auto=webp&amp;s=e9519d1999ef9dce5c8a9f59369cb92f52d95319',\n",
       "      'width': 32,\n",
       "      'height': 32},\n",
       "     {'url': 'https://preview.redd.it/award_images/t5_q0gj4/fpm0r5ryq1361_PolarHugs.png?width=48&amp;height=48&amp;auto=webp&amp;s=f076c6434fb2d2f9075991810fd845c40fa73fc6',\n",
       "      'width': 48,\n",
       "      'height': 48},\n",
       "     {'url': 'https://preview.redd.it/award_images/t5_q0gj4/fpm0r5ryq1361_PolarHugs.png?width=64&amp;height=64&amp;auto=webp&amp;s=85527145e0c4b754306a30df29e584fd16187636',\n",
       "      'width': 64,\n",
       "      'height': 64},\n",
       "     {'url': 'https://preview.redd.it/award_images/t5_q0gj4/fpm0r5ryq1361_PolarHugs.png?width=128&amp;height=128&amp;auto=webp&amp;s=b8843cdf82c3b741d7af057c14076dcd2621e811',\n",
       "      'width': 128,\n",
       "      'height': 128}],\n",
       "    'icon_width': 2048,\n",
       "    'static_icon_width': 2048,\n",
       "    'start_date': None,\n",
       "    'is_enabled': True,\n",
       "    'awardings_required_to_grant_benefits': None,\n",
       "    'description': 'Everything is better with a good hug',\n",
       "    'end_date': None,\n",
       "    'subreddit_coin_reward': 0,\n",
       "    'count': 21,\n",
       "    'static_icon_height': 2048,\n",
       "    'name': 'Hugz',\n",
       "    'resized_static_icons': [{'url': 'https://preview.redd.it/award_images/t5_q0gj4/fpm0r5ryq1361_PolarHugs.png?width=16&amp;height=16&amp;auto=webp&amp;s=69997ace3ef4ffc099b81d774c2c8f1530602875',\n",
       "      'width': 16,\n",
       "      'height': 16},\n",
       "     {'url': 'https://preview.redd.it/award_images/t5_q0gj4/fpm0r5ryq1361_PolarHugs.png?width=32&amp;height=32&amp;auto=webp&amp;s=e9519d1999ef9dce5c8a9f59369cb92f52d95319',\n",
       "      'width': 32,\n",
       "      'height': 32},\n",
       "     {'url': 'https://preview.redd.it/award_images/t5_q0gj4/fpm0r5ryq1361_PolarHugs.png?width=48&amp;height=48&amp;auto=webp&amp;s=f076c6434fb2d2f9075991810fd845c40fa73fc6',\n",
       "      'width': 48,\n",
       "      'height': 48},\n",
       "     {'url': 'https://preview.redd.it/award_images/t5_q0gj4/fpm0r5ryq1361_PolarHugs.png?width=64&amp;height=64&amp;auto=webp&amp;s=85527145e0c4b754306a30df29e584fd16187636',\n",
       "      'width': 64,\n",
       "      'height': 64},\n",
       "     {'url': 'https://preview.redd.it/award_images/t5_q0gj4/fpm0r5ryq1361_PolarHugs.png?width=128&amp;height=128&amp;auto=webp&amp;s=b8843cdf82c3b741d7af057c14076dcd2621e811',\n",
       "      'width': 128,\n",
       "      'height': 128}],\n",
       "    'icon_format': 'PNG',\n",
       "    'icon_height': 2048,\n",
       "    'penny_price': 0,\n",
       "    'award_type': 'global',\n",
       "    'static_icon_url': 'https://i.redd.it/award_images/t5_q0gj4/fpm0r5ryq1361_PolarHugs.png'}],\n",
       "  'awarders': [],\n",
       "  'media_only': False,\n",
       "  'link_flair_template_id': '3f671638-fe53-11e4-9139-0e96a3f5c15d',\n",
       "  'can_gild': False,\n",
       "  'spoiler': False,\n",
       "  'locked': False,\n",
       "  'author_flair_text': None,\n",
       "  'treatment_tags': [],\n",
       "  'visited': False,\n",
       "  'removed_by': None,\n",
       "  'num_reports': None,\n",
       "  'distinguished': None,\n",
       "  'subreddit_id': 't5_2to41',\n",
       "  'mod_reason_by': None,\n",
       "  'removal_reason': None,\n",
       "  'link_flair_background_color': '#2b87f3',\n",
       "  'id': 'kv09xh',\n",
       "  'is_robot_indexable': True,\n",
       "  'report_reasons': None,\n",
       "  'author': 'thespunkmunky',\n",
       "  'discussion_type': None,\n",
       "  'num_comments': 629,\n",
       "  'send_replies': True,\n",
       "  'whitelist_status': 'some_ads',\n",
       "  'contest_mode': False,\n",
       "  'mod_reports': [],\n",
       "  'author_patreon_flair': False,\n",
       "  'author_flair_text_color': None,\n",
       "  'permalink': '/r/tifu/comments/kv09xh/tifu_by_accidentally_hitting_on_a_customer/',\n",
       "  'parent_whitelist_status': 'some_ads',\n",
       "  'stickied': False,\n",
       "  'url': 'https://www.reddit.com/r/tifu/comments/kv09xh/tifu_by_accidentally_hitting_on_a_customer/',\n",
       "  'subreddit_subscribers': 16687976,\n",
       "  'created_utc': 1610361647.0,\n",
       "  'num_crossposts': 2,\n",
       "  'media': None,\n",
       "  'is_video': False}}"
      ]
     },
     "metadata": {},
     "output_type": "display_data"
    }
   ],
   "source": [
    "# Observing first item in extracted data\n",
    "display(data['data']['children'][0])"
   ]
  },
  {
   "cell_type": "code",
   "execution_count": 15,
   "metadata": {},
   "outputs": [
    {
     "name": "stdout",
     "output_type": "stream",
     "text": [
      "True\n"
     ]
    }
   ],
   "source": [
    "# Testing if the 'after' key contains marker for the last post within that API pull\n",
    "print(data['data']['children'][24]['data']['name'] == data['data']['after'])"
   ]
  },
  {
   "cell_type": "code",
   "execution_count": 16,
   "metadata": {},
   "outputs": [
    {
     "name": "stdout",
     "output_type": "stream",
     "text": [
      "['all_awardings', 'allow_live_comments', 'approved_at_utc', 'approved_by', 'archived', 'author', 'author_flair_background_color', 'author_flair_css_class', 'author_flair_richtext', 'author_flair_template_id', 'author_flair_text', 'author_flair_text_color', 'author_flair_type', 'author_fullname', 'author_patreon_flair', 'author_premium', 'awarders', 'banned_at_utc', 'banned_by', 'can_gild', 'can_mod_post', 'category', 'clicked', 'content_categories', 'contest_mode', 'created', 'created_utc', 'discussion_type', 'distinguished', 'domain', 'downs', 'edited', 'gilded', 'gildings', 'hidden', 'hide_score', 'id', 'is_crosspostable', 'is_meta', 'is_original_content', 'is_reddit_media_domain', 'is_robot_indexable', 'is_self', 'is_video', 'likes', 'link_flair_background_color', 'link_flair_css_class', 'link_flair_richtext', 'link_flair_template_id', 'link_flair_text', 'link_flair_text_color', 'link_flair_type', 'locked', 'media', 'media_embed', 'media_only', 'mod_note', 'mod_reason_by', 'mod_reason_title', 'mod_reports', 'name', 'no_follow', 'num_comments', 'num_crossposts', 'num_reports', 'over_18', 'parent_whitelist_status', 'permalink', 'pinned', 'pwls', 'quarantine', 'removal_reason', 'removed_by', 'removed_by_category', 'report_reasons', 'saved', 'score', 'secure_media', 'secure_media_embed', 'selftext', 'selftext_html', 'send_replies', 'spoiler', 'stickied', 'subreddit', 'subreddit_id', 'subreddit_name_prefixed', 'subreddit_subscribers', 'subreddit_type', 'suggested_sort', 'thumbnail', 'title', 'top_awarded_type', 'total_awards_received', 'treatment_tags', 'ups', 'upvote_ratio', 'url', 'user_reports', 'view_count', 'visited', 'whitelist_status', 'wls']\n"
     ]
    }
   ],
   "source": [
    "# Extracting all the keys within the data key of data['data']['children']\n",
    "print(sorted(data['data']['children'][0]['data'].keys()))"
   ]
  },
  {
   "cell_type": "code",
   "execution_count": 17,
   "metadata": {},
   "outputs": [
    {
     "name": "stdout",
     "output_type": "stream",
     "text": [
      "25\n"
     ]
    }
   ],
   "source": [
    "# Determing number of values for each API pull\n",
    "print(len(data['data']['children']))"
   ]
  },
  {
   "cell_type": "markdown",
   "metadata": {},
   "source": [
    "### 1.3 Observations <a class=\"anchor\" id=\"chapter1_3\"></a>"
   ]
  },
  {
   "cell_type": "markdown",
   "metadata": {},
   "source": [
    "- Information required lives in `data['data']['children']`\n",
    "- Subreddit is contained within `['subreddit']`\n",
    "- Title of post is contained within `['title']`\n",
    "- Body of post is contained within `['selftext']`\n",
    "- `data['data']['after']` contains the id of the last post within that API pull\n",
    "- Each pull extracts 25 posts"
   ]
  },
  {
   "cell_type": "markdown",
   "metadata": {},
   "source": [
    "### 1.4 Features Selected <a class=\"anchor\" id=\"chapter1_4\"></a>"
   ]
  },
  {
   "cell_type": "markdown",
   "metadata": {},
   "source": [
    "The model will be trained on text contained in the title and the body of the posts in order to classify it a either of the subreddits. In addition to that, other features will also be extracted that may prove to have useful insights.\n",
    "- `name`: denoting user id of the poster\n",
    "- `title`: title of the post\n",
    "- `selftext`: body of the post\n",
    "- `ups`: upvotes of the post\n",
    "- `num_comments`: number of comments made for the post\n",
    "- `subreddit`: subreddit the post belongs to"
   ]
  },
  {
   "cell_type": "markdown",
   "metadata": {},
   "source": [
    "## 2. Data Scraping <a class=\"anchor\" id=\"chapter2\"></a>\n",
    "---"
   ]
  },
  {
   "cell_type": "markdown",
   "metadata": {},
   "source": [
    "Given the selected features, required data will be scraped using the APIs."
   ]
  },
  {
   "cell_type": "markdown",
   "metadata": {},
   "source": [
    "### 2.1 Data Extraction Function <a class=\"anchor\" id=\"chapter2_1\"></a>"
   ]
  },
  {
   "cell_type": "code",
   "execution_count": 18,
   "metadata": {},
   "outputs": [],
   "source": [
    "# Define function to extract posts from subreddit, given the url and the number of targeted posts\n",
    "def subred_extraction(url, number):\n",
    "\n",
    "    headers = {'user-agent':'dnys'} # To prevent 429 status code\n",
    "    posts = [] # Creating list to store extracted posts\n",
    "    after = None # Marker to continue extracting after each pull of 25 posts\n",
    "    features = ['name', 'title', 'selftext', 'ups', 'num_comments', 'subreddit'] # Features to be extracted\n",
    "\n",
    "    for i in range(int(round(number/25,0))): # Loop to get requested number of posts\n",
    "        print(f'Scraping {(i+1)*25} posts.') # Print status as posts are extracted\n",
    "        if after == None: # If statement to set marker\n",
    "            params = {}\n",
    "        else:\n",
    "            params = {'after':after}\n",
    "        url = url\n",
    "        res = requests.get(url, params=params, headers=headers) # Requesting data using API with marker\n",
    "        \n",
    "        if res.status_code == 200: # Testing for connection\n",
    "            the_json = res.json()\n",
    "            \n",
    "            for i in range(len(the_json['data']['children'])): # Looping through each post extracted with each run of the API\n",
    "                placement_dict = {} # Creating placeholder for extracted data\n",
    "                for feature in features: # Loop for extracting required feature\n",
    "                    placement_dict[feature] = the_json['data']['children'][i]['data'][feature]\n",
    "                posts.append(placement_dict) # Creating a list item for extracted data of the post\n",
    "                \n",
    "            after = the_json['data']['after'] # Setting new marker \n",
    "            print(len(posts))\n",
    "        else:\n",
    "            print(f'Request time out. Error code: {res.status_code}.') # Error message for bad connection\n",
    "            break\n",
    "        clear_output(wait=True)\n",
    "        time.sleep(1) # Creating time interval between each API request\n",
    "        print(f'Successfully extracted {len(posts)} posts.')\n",
    "    return posts"
   ]
  },
  {
   "cell_type": "markdown",
   "metadata": {},
   "source": [
    "### 2.2 Pull from Subreddits <a class=\"anchor\" id=\"chapter2_2\"></a>"
   ]
  },
  {
   "cell_type": "markdown",
   "metadata": {},
   "source": [
    "Subreddits are:\n",
    "- /r/tifu\n",
    "- /r/confessions"
   ]
  },
  {
   "cell_type": "code",
   "execution_count": 19,
   "metadata": {},
   "outputs": [],
   "source": [
    "# Creating the URL for each subreddit\n",
    "url1 = 'https://www.reddit.com/r/tifu/new/.json'\n",
    "url2 = 'https://www.reddit.com/r/confessions/new/.json'"
   ]
  },
  {
   "cell_type": "code",
   "execution_count": 20,
   "metadata": {},
   "outputs": [
    {
     "name": "stdout",
     "output_type": "stream",
     "text": [
      "Successfully extracted 997 posts.\n"
     ]
    }
   ],
   "source": [
    "# Extracting data for TIFU subreddit, requesting for 1000 posts and saving to .csv file\n",
    "tifu_posts = subred_extraction(url1,1000)\n",
    "pd.DataFrame(tifu_posts).to_csv('../data/tifu_subreddit.csv',index=False)"
   ]
  },
  {
   "cell_type": "code",
   "execution_count": 21,
   "metadata": {},
   "outputs": [
    {
     "name": "stdout",
     "output_type": "stream",
     "text": [
      "Successfully extracted 992 posts.\n"
     ]
    }
   ],
   "source": [
    "# Extracting data for Confessions subreddit, requesting for 1000 posts and saving to .csv file\n",
    "confessions_posts = subred_extraction(url2,1000)\n",
    "pd.DataFrame(confessions_posts).to_csv('../data/confessions_subreddit.csv',index=False)"
   ]
  },
  {
   "cell_type": "code",
   "execution_count": 22,
   "metadata": {},
   "outputs": [],
   "source": [
    "# Read in extracted data\n",
    "tifu_df = pd.read_csv('../data/tifu_subreddit.csv')\n",
    "confessions_df = pd.read_csv('../data/confessions_subreddit.csv')"
   ]
  },
  {
   "cell_type": "code",
   "execution_count": 24,
   "metadata": {},
   "outputs": [
    {
     "data": {
      "text/html": [
       "<div>\n",
       "<style scoped>\n",
       "    .dataframe tbody tr th:only-of-type {\n",
       "        vertical-align: middle;\n",
       "    }\n",
       "\n",
       "    .dataframe tbody tr th {\n",
       "        vertical-align: top;\n",
       "    }\n",
       "\n",
       "    .dataframe thead th {\n",
       "        text-align: right;\n",
       "    }\n",
       "</style>\n",
       "<table border=\"1\" class=\"dataframe\">\n",
       "  <thead>\n",
       "    <tr style=\"text-align: right;\">\n",
       "      <th></th>\n",
       "      <th>ups</th>\n",
       "      <th>num_comments</th>\n",
       "    </tr>\n",
       "  </thead>\n",
       "  <tbody>\n",
       "    <tr>\n",
       "      <th>count</th>\n",
       "      <td>997.000000</td>\n",
       "      <td>997.000000</td>\n",
       "    </tr>\n",
       "    <tr>\n",
       "      <th>mean</th>\n",
       "      <td>999.558676</td>\n",
       "      <td>57.308927</td>\n",
       "    </tr>\n",
       "    <tr>\n",
       "      <th>std</th>\n",
       "      <td>5177.492488</td>\n",
       "      <td>243.364587</td>\n",
       "    </tr>\n",
       "    <tr>\n",
       "      <th>min</th>\n",
       "      <td>0.000000</td>\n",
       "      <td>0.000000</td>\n",
       "    </tr>\n",
       "    <tr>\n",
       "      <th>25%</th>\n",
       "      <td>7.000000</td>\n",
       "      <td>4.000000</td>\n",
       "    </tr>\n",
       "    <tr>\n",
       "      <th>50%</th>\n",
       "      <td>18.000000</td>\n",
       "      <td>9.000000</td>\n",
       "    </tr>\n",
       "    <tr>\n",
       "      <th>75%</th>\n",
       "      <td>58.000000</td>\n",
       "      <td>19.000000</td>\n",
       "    </tr>\n",
       "    <tr>\n",
       "      <th>max</th>\n",
       "      <td>66113.000000</td>\n",
       "      <td>3214.000000</td>\n",
       "    </tr>\n",
       "  </tbody>\n",
       "</table>\n",
       "</div>"
      ],
      "text/plain": [
       "                ups  num_comments\n",
       "count    997.000000    997.000000\n",
       "mean     999.558676     57.308927\n",
       "std     5177.492488    243.364587\n",
       "min        0.000000      0.000000\n",
       "25%        7.000000      4.000000\n",
       "50%       18.000000      9.000000\n",
       "75%       58.000000     19.000000\n",
       "max    66113.000000   3214.000000"
      ]
     },
     "metadata": {},
     "output_type": "display_data"
    }
   ],
   "source": [
    "display(tifu_df.describe())"
   ]
  },
  {
   "cell_type": "code",
   "execution_count": 26,
   "metadata": {},
   "outputs": [
    {
     "data": {
      "text/html": [
       "<div>\n",
       "<style scoped>\n",
       "    .dataframe tbody tr th:only-of-type {\n",
       "        vertical-align: middle;\n",
       "    }\n",
       "\n",
       "    .dataframe tbody tr th {\n",
       "        vertical-align: top;\n",
       "    }\n",
       "\n",
       "    .dataframe thead th {\n",
       "        text-align: right;\n",
       "    }\n",
       "</style>\n",
       "<table border=\"1\" class=\"dataframe\">\n",
       "  <thead>\n",
       "    <tr style=\"text-align: right;\">\n",
       "      <th></th>\n",
       "      <th>ups</th>\n",
       "      <th>num_comments</th>\n",
       "    </tr>\n",
       "  </thead>\n",
       "  <tbody>\n",
       "    <tr>\n",
       "      <th>count</th>\n",
       "      <td>992.000000</td>\n",
       "      <td>992.000000</td>\n",
       "    </tr>\n",
       "    <tr>\n",
       "      <th>mean</th>\n",
       "      <td>75.271169</td>\n",
       "      <td>12.740927</td>\n",
       "    </tr>\n",
       "    <tr>\n",
       "      <th>std</th>\n",
       "      <td>551.937176</td>\n",
       "      <td>52.051345</td>\n",
       "    </tr>\n",
       "    <tr>\n",
       "      <th>min</th>\n",
       "      <td>0.000000</td>\n",
       "      <td>0.000000</td>\n",
       "    </tr>\n",
       "    <tr>\n",
       "      <th>25%</th>\n",
       "      <td>0.000000</td>\n",
       "      <td>2.000000</td>\n",
       "    </tr>\n",
       "    <tr>\n",
       "      <th>50%</th>\n",
       "      <td>3.000000</td>\n",
       "      <td>4.000000</td>\n",
       "    </tr>\n",
       "    <tr>\n",
       "      <th>75%</th>\n",
       "      <td>7.000000</td>\n",
       "      <td>9.000000</td>\n",
       "    </tr>\n",
       "    <tr>\n",
       "      <th>max</th>\n",
       "      <td>7390.000000</td>\n",
       "      <td>1011.000000</td>\n",
       "    </tr>\n",
       "  </tbody>\n",
       "</table>\n",
       "</div>"
      ],
      "text/plain": [
       "               ups  num_comments\n",
       "count   992.000000    992.000000\n",
       "mean     75.271169     12.740927\n",
       "std     551.937176     52.051345\n",
       "min       0.000000      0.000000\n",
       "25%       0.000000      2.000000\n",
       "50%       3.000000      4.000000\n",
       "75%       7.000000      9.000000\n",
       "max    7390.000000   1011.000000"
      ]
     },
     "metadata": {},
     "output_type": "display_data"
    }
   ],
   "source": [
    "display(confessions_df.describe())"
   ]
  }
 ],
 "metadata": {
  "kernelspec": {
   "display_name": "Python 3",
   "language": "python",
   "name": "python3"
  },
  "language_info": {
   "codemirror_mode": {
    "name": "ipython",
    "version": 3
   },
   "file_extension": ".py",
   "mimetype": "text/x-python",
   "name": "python",
   "nbconvert_exporter": "python",
   "pygments_lexer": "ipython3",
   "version": "3.8.3"
  }
 },
 "nbformat": 4,
 "nbformat_minor": 4
}
