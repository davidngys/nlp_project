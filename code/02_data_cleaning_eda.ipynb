{
 "cells": [
  {
   "cell_type": "markdown",
   "metadata": {},
   "source": [
    "# DSI19 Project 3 - Data Cleaning & EDA\n",
    "---"
   ]
  },
  {
   "cell_type": "markdown",
   "metadata": {},
   "source": [
    "## Table of Contents\n",
    "\n",
    "* [1. Data Cleaning](#chapter1)\n",
    "    * [1.1 Read in Extracted Data](#chapter1_1)\n",
    "    * [1.2 Combine into Single DataFrame](#chapter1_2)\n",
    "    * [1.3 Combine Text](#chapter1_3)\n",
    "    * [1.4 Create Target](#chapter1_4)\n",
    "    * [1.5 Analysis and Insights](#chapter1_5)\n",
    "* [2. Text Processing](#chapter2)\n",
    "    * [2.1 Tokenizing and Outlier Removal](#chapter_2_1)\n",
    "    * [2.2 Pull from Subreddits](#chapter_2_2)\n",
    "* [3. Text Feature Extraction](#chapter3)\n",
    "    * [2.1 Defining Function](#chapter3_1)\n",
    "    * [2.1 Results and Analysis](#chapter3_2)"
   ]
  },
  {
   "cell_type": "code",
   "execution_count": 1,
   "metadata": {},
   "outputs": [],
   "source": [
    "# Library imports\n",
    "import pandas as pd\n",
    "import matplotlib.pyplot as plt\n",
    "import seaborn as sns\n",
    "from nltk.tokenize import RegexpTokenizer\n",
    "from nltk.stem import WordNetLemmatizer\n",
    "from nltk.stem.porter import PorterStemmer\n",
    "from sklearn.feature_extraction.text import CountVectorizer, TfidfVectorizer\n",
    "\n",
    "%matplotlib inline"
   ]
  },
  {
   "cell_type": "markdown",
   "metadata": {},
   "source": [
    "## 1. Data Cleaning <a class=\"anchor\" id=\"chapter1\"></a>\n",
    "---"
   ]
  },
  {
   "cell_type": "markdown",
   "metadata": {},
   "source": [
    "As a NLP model is being built for classification into 2 different subreddits, our objective of data cleaning and processing would be to have a dataframe with a column with text to be used as the `X variable`, and a column with values `1` and `0` to label the subreddit it belongs to. For the purpose of this model, the labels will be classified as:\n",
    "- `1` for posts belonging to `/r/tifu`\n",
    "- `0` for posts belonging to `/r/confessions`"
   ]
  },
  {
   "cell_type": "markdown",
   "metadata": {},
   "source": [
    "Steps to be taken for data cleaning.\n",
    "1. Combine data from both subreddits into a single dataframe\n",
    "2. Combine text from both the `title` and the `selftext` into a single column in the dataframe\n",
    "3. Create a target column with respective labels for the subreddits"
   ]
  },
  {
   "cell_type": "markdown",
   "metadata": {},
   "source": [
    "### 1.1 Read in Extracted Data <a class=\"anchor\" id=\"chapter1_1\"></a>"
   ]
  },
  {
   "cell_type": "code",
   "execution_count": 2,
   "metadata": {},
   "outputs": [],
   "source": [
    "# Read in extracted data\n",
    "tifu_df = pd.read_csv('../data/tifu_subreddit.csv')\n",
    "confessions_df = pd.read_csv('../data/confessions_subreddit.csv')"
   ]
  },
  {
   "cell_type": "code",
   "execution_count": 3,
   "metadata": {},
   "outputs": [
    {
     "data": {
      "text/html": [
       "<div>\n",
       "<style scoped>\n",
       "    .dataframe tbody tr th:only-of-type {\n",
       "        vertical-align: middle;\n",
       "    }\n",
       "\n",
       "    .dataframe tbody tr th {\n",
       "        vertical-align: top;\n",
       "    }\n",
       "\n",
       "    .dataframe thead th {\n",
       "        text-align: right;\n",
       "    }\n",
       "</style>\n",
       "<table border=\"1\" class=\"dataframe\">\n",
       "  <thead>\n",
       "    <tr style=\"text-align: right;\">\n",
       "      <th></th>\n",
       "      <th>name</th>\n",
       "      <th>title</th>\n",
       "      <th>selftext</th>\n",
       "      <th>ups</th>\n",
       "      <th>num_comments</th>\n",
       "      <th>subreddit</th>\n",
       "    </tr>\n",
       "  </thead>\n",
       "  <tbody>\n",
       "    <tr>\n",
       "      <th>0</th>\n",
       "      <td>t3_kvjlmn</td>\n",
       "      <td>TIFU By accidentally being racist to an Asian ...</td>\n",
       "      <td>Today I fucked up by being racist to my Asian ...</td>\n",
       "      <td>0</td>\n",
       "      <td>1</td>\n",
       "      <td>tifu</td>\n",
       "    </tr>\n",
       "    <tr>\n",
       "      <th>1</th>\n",
       "      <td>t3_kvjgp0</td>\n",
       "      <td>TIFU by ordering dish towels from Amazon (NSFW)</td>\n",
       "      <td>Obligatory this happened about 30 minutes ago ...</td>\n",
       "      <td>4</td>\n",
       "      <td>2</td>\n",
       "      <td>tifu</td>\n",
       "    </tr>\n",
       "    <tr>\n",
       "      <th>2</th>\n",
       "      <td>t3_kvj1zy</td>\n",
       "      <td>TIFU because I told the teacher I like drugs</td>\n",
       "      <td>Pretty short story... my math teacher was gett...</td>\n",
       "      <td>2</td>\n",
       "      <td>2</td>\n",
       "      <td>tifu</td>\n",
       "    </tr>\n",
       "    <tr>\n",
       "      <th>3</th>\n",
       "      <td>t3_kvih6z</td>\n",
       "      <td>TIFU by losing my phone and getting picked up ...</td>\n",
       "      <td>This actually happened fall semester of 2004. ...</td>\n",
       "      <td>0</td>\n",
       "      <td>0</td>\n",
       "      <td>tifu</td>\n",
       "    </tr>\n",
       "    <tr>\n",
       "      <th>4</th>\n",
       "      <td>t3_kvif4c</td>\n",
       "      <td>TIFU by setting out a digital picture frame</td>\n",
       "      <td>TIFU by setting out a digital picture frame\\n\\...</td>\n",
       "      <td>0</td>\n",
       "      <td>1</td>\n",
       "      <td>tifu</td>\n",
       "    </tr>\n",
       "  </tbody>\n",
       "</table>\n",
       "</div>"
      ],
      "text/plain": [
       "        name                                              title  \\\n",
       "0  t3_kvjlmn  TIFU By accidentally being racist to an Asian ...   \n",
       "1  t3_kvjgp0    TIFU by ordering dish towels from Amazon (NSFW)   \n",
       "2  t3_kvj1zy       TIFU because I told the teacher I like drugs   \n",
       "3  t3_kvih6z  TIFU by losing my phone and getting picked up ...   \n",
       "4  t3_kvif4c        TIFU by setting out a digital picture frame   \n",
       "\n",
       "                                            selftext  ups  num_comments  \\\n",
       "0  Today I fucked up by being racist to my Asian ...    0             1   \n",
       "1  Obligatory this happened about 30 minutes ago ...    4             2   \n",
       "2  Pretty short story... my math teacher was gett...    2             2   \n",
       "3  This actually happened fall semester of 2004. ...    0             0   \n",
       "4  TIFU by setting out a digital picture frame\\n\\...    0             1   \n",
       "\n",
       "  subreddit  \n",
       "0      tifu  \n",
       "1      tifu  \n",
       "2      tifu  \n",
       "3      tifu  \n",
       "4      tifu  "
      ]
     },
     "metadata": {},
     "output_type": "display_data"
    }
   ],
   "source": [
    "display(tifu_df.head()) # Displaying data for /r/tifu subreddit"
   ]
  },
  {
   "cell_type": "code",
   "execution_count": 4,
   "metadata": {},
   "outputs": [
    {
     "name": "stdout",
     "output_type": "stream",
     "text": [
      "(997, 6)\n"
     ]
    }
   ],
   "source": [
    "print(tifu_df.shape) # Checking shape of /r/tifu subreddit"
   ]
  },
  {
   "cell_type": "code",
   "execution_count": 5,
   "metadata": {},
   "outputs": [
    {
     "data": {
      "text/html": [
       "<div>\n",
       "<style scoped>\n",
       "    .dataframe tbody tr th:only-of-type {\n",
       "        vertical-align: middle;\n",
       "    }\n",
       "\n",
       "    .dataframe tbody tr th {\n",
       "        vertical-align: top;\n",
       "    }\n",
       "\n",
       "    .dataframe thead th {\n",
       "        text-align: right;\n",
       "    }\n",
       "</style>\n",
       "<table border=\"1\" class=\"dataframe\">\n",
       "  <thead>\n",
       "    <tr style=\"text-align: right;\">\n",
       "      <th></th>\n",
       "      <th>name</th>\n",
       "      <th>title</th>\n",
       "      <th>selftext</th>\n",
       "      <th>ups</th>\n",
       "      <th>num_comments</th>\n",
       "      <th>subreddit</th>\n",
       "    </tr>\n",
       "  </thead>\n",
       "  <tbody>\n",
       "    <tr>\n",
       "      <th>0</th>\n",
       "      <td>t3_kvjhce</td>\n",
       "      <td>I cheated :(</td>\n",
       "      <td>God this hard to say and it might get burried ...</td>\n",
       "      <td>0</td>\n",
       "      <td>4</td>\n",
       "      <td>confessions</td>\n",
       "    </tr>\n",
       "    <tr>\n",
       "      <th>1</th>\n",
       "      <td>t3_kvj9ow</td>\n",
       "      <td>I got the biggest crush on a Netflix special d...</td>\n",
       "      <td>Raphael Rowe \\n\\n\\nI mean...I’m surprised at m...</td>\n",
       "      <td>1</td>\n",
       "      <td>0</td>\n",
       "      <td>confessions</td>\n",
       "    </tr>\n",
       "    <tr>\n",
       "      <th>2</th>\n",
       "      <td>t3_kvj90s</td>\n",
       "      <td>My blonde sister delivered her black son tonight</td>\n",
       "      <td>She's naming him George Floyd Jr. I couldn't b...</td>\n",
       "      <td>0</td>\n",
       "      <td>1</td>\n",
       "      <td>confessions</td>\n",
       "    </tr>\n",
       "    <tr>\n",
       "      <th>3</th>\n",
       "      <td>t3_kviyeb</td>\n",
       "      <td>I think I am becoming racist towards white peo...</td>\n",
       "      <td>I’m a white-passing minority living in the US ...</td>\n",
       "      <td>1</td>\n",
       "      <td>13</td>\n",
       "      <td>confessions</td>\n",
       "    </tr>\n",
       "    <tr>\n",
       "      <th>4</th>\n",
       "      <td>t3_kviy4c</td>\n",
       "      <td>Can’t handle one part in one movie</td>\n",
       "      <td>I’m an avid dog lover. But I also love John Wi...</td>\n",
       "      <td>2</td>\n",
       "      <td>1</td>\n",
       "      <td>confessions</td>\n",
       "    </tr>\n",
       "  </tbody>\n",
       "</table>\n",
       "</div>"
      ],
      "text/plain": [
       "        name                                              title  \\\n",
       "0  t3_kvjhce                                       I cheated :(   \n",
       "1  t3_kvj9ow  I got the biggest crush on a Netflix special d...   \n",
       "2  t3_kvj90s   My blonde sister delivered her black son tonight   \n",
       "3  t3_kviyeb  I think I am becoming racist towards white peo...   \n",
       "4  t3_kviy4c                 Can’t handle one part in one movie   \n",
       "\n",
       "                                            selftext  ups  num_comments  \\\n",
       "0  God this hard to say and it might get burried ...    0             4   \n",
       "1  Raphael Rowe \\n\\n\\nI mean...I’m surprised at m...    1             0   \n",
       "2  She's naming him George Floyd Jr. I couldn't b...    0             1   \n",
       "3  I’m a white-passing minority living in the US ...    1            13   \n",
       "4  I’m an avid dog lover. But I also love John Wi...    2             1   \n",
       "\n",
       "     subreddit  \n",
       "0  confessions  \n",
       "1  confessions  \n",
       "2  confessions  \n",
       "3  confessions  \n",
       "4  confessions  "
      ]
     },
     "metadata": {},
     "output_type": "display_data"
    }
   ],
   "source": [
    "display(confessions_df.head()) # Displaying data for /r/confessions subreddit"
   ]
  },
  {
   "cell_type": "code",
   "execution_count": 6,
   "metadata": {},
   "outputs": [
    {
     "name": "stdout",
     "output_type": "stream",
     "text": [
      "(992, 6)\n"
     ]
    }
   ],
   "source": [
    "print(confessions_df.shape) # Checking shape of /r/confessions subreddit"
   ]
  },
  {
   "cell_type": "code",
   "execution_count": 7,
   "metadata": {},
   "outputs": [
    {
     "name": "stdout",
     "output_type": "stream",
     "text": [
      "(997, 6)\n",
      "(992, 6)\n"
     ]
    }
   ],
   "source": [
    "# Check for duplicate posts\n",
    "print(tifu_df.drop_duplicates().shape)\n",
    "print(confessions_df.drop_duplicates().shape)"
   ]
  },
  {
   "cell_type": "markdown",
   "metadata": {},
   "source": [
    "As confirmed from the data extraction notebook, there are 997 posts extracted from the `/r/tifu` subreddit and 992 posts extracted from the `/r/confessions` subreddit. There are also no duplicate posts extracted from the two subreddits."
   ]
  },
  {
   "cell_type": "markdown",
   "metadata": {},
   "source": [
    "### 1.2 Combine into Single DataFrame <a class=\"anchor\" id=\"chapter1_2\"></a>"
   ]
  },
  {
   "cell_type": "code",
   "execution_count": 8,
   "metadata": {},
   "outputs": [],
   "source": [
    "data_df = pd.concat([tifu_df,confessions_df],axis=0,ignore_index=True) # Concat both dataframes into single dataframe"
   ]
  },
  {
   "cell_type": "code",
   "execution_count": 9,
   "metadata": {},
   "outputs": [
    {
     "data": {
      "text/html": [
       "<div>\n",
       "<style scoped>\n",
       "    .dataframe tbody tr th:only-of-type {\n",
       "        vertical-align: middle;\n",
       "    }\n",
       "\n",
       "    .dataframe tbody tr th {\n",
       "        vertical-align: top;\n",
       "    }\n",
       "\n",
       "    .dataframe thead th {\n",
       "        text-align: right;\n",
       "    }\n",
       "</style>\n",
       "<table border=\"1\" class=\"dataframe\">\n",
       "  <thead>\n",
       "    <tr style=\"text-align: right;\">\n",
       "      <th></th>\n",
       "      <th>name</th>\n",
       "      <th>title</th>\n",
       "      <th>selftext</th>\n",
       "      <th>ups</th>\n",
       "      <th>num_comments</th>\n",
       "      <th>subreddit</th>\n",
       "    </tr>\n",
       "  </thead>\n",
       "  <tbody>\n",
       "    <tr>\n",
       "      <th>0</th>\n",
       "      <td>t3_kvjlmn</td>\n",
       "      <td>TIFU By accidentally being racist to an Asian ...</td>\n",
       "      <td>Today I fucked up by being racist to my Asian ...</td>\n",
       "      <td>0</td>\n",
       "      <td>1</td>\n",
       "      <td>tifu</td>\n",
       "    </tr>\n",
       "    <tr>\n",
       "      <th>1</th>\n",
       "      <td>t3_kvjgp0</td>\n",
       "      <td>TIFU by ordering dish towels from Amazon (NSFW)</td>\n",
       "      <td>Obligatory this happened about 30 minutes ago ...</td>\n",
       "      <td>4</td>\n",
       "      <td>2</td>\n",
       "      <td>tifu</td>\n",
       "    </tr>\n",
       "    <tr>\n",
       "      <th>2</th>\n",
       "      <td>t3_kvj1zy</td>\n",
       "      <td>TIFU because I told the teacher I like drugs</td>\n",
       "      <td>Pretty short story... my math teacher was gett...</td>\n",
       "      <td>2</td>\n",
       "      <td>2</td>\n",
       "      <td>tifu</td>\n",
       "    </tr>\n",
       "    <tr>\n",
       "      <th>3</th>\n",
       "      <td>t3_kvih6z</td>\n",
       "      <td>TIFU by losing my phone and getting picked up ...</td>\n",
       "      <td>This actually happened fall semester of 2004. ...</td>\n",
       "      <td>0</td>\n",
       "      <td>0</td>\n",
       "      <td>tifu</td>\n",
       "    </tr>\n",
       "    <tr>\n",
       "      <th>4</th>\n",
       "      <td>t3_kvif4c</td>\n",
       "      <td>TIFU by setting out a digital picture frame</td>\n",
       "      <td>TIFU by setting out a digital picture frame\\n\\...</td>\n",
       "      <td>0</td>\n",
       "      <td>1</td>\n",
       "      <td>tifu</td>\n",
       "    </tr>\n",
       "  </tbody>\n",
       "</table>\n",
       "</div>"
      ],
      "text/plain": [
       "        name                                              title  \\\n",
       "0  t3_kvjlmn  TIFU By accidentally being racist to an Asian ...   \n",
       "1  t3_kvjgp0    TIFU by ordering dish towels from Amazon (NSFW)   \n",
       "2  t3_kvj1zy       TIFU because I told the teacher I like drugs   \n",
       "3  t3_kvih6z  TIFU by losing my phone and getting picked up ...   \n",
       "4  t3_kvif4c        TIFU by setting out a digital picture frame   \n",
       "\n",
       "                                            selftext  ups  num_comments  \\\n",
       "0  Today I fucked up by being racist to my Asian ...    0             1   \n",
       "1  Obligatory this happened about 30 minutes ago ...    4             2   \n",
       "2  Pretty short story... my math teacher was gett...    2             2   \n",
       "3  This actually happened fall semester of 2004. ...    0             0   \n",
       "4  TIFU by setting out a digital picture frame\\n\\...    0             1   \n",
       "\n",
       "  subreddit  \n",
       "0      tifu  \n",
       "1      tifu  \n",
       "2      tifu  \n",
       "3      tifu  \n",
       "4      tifu  "
      ]
     },
     "metadata": {},
     "output_type": "display_data"
    }
   ],
   "source": [
    "display(data_df.head())"
   ]
  },
  {
   "cell_type": "code",
   "execution_count": 10,
   "metadata": {},
   "outputs": [
    {
     "name": "stdout",
     "output_type": "stream",
     "text": [
      "(1989, 6)\n"
     ]
    }
   ],
   "source": [
    "print(data_df.shape)"
   ]
  },
  {
   "cell_type": "markdown",
   "metadata": {},
   "source": [
    "There are a total of 1989 data rows, showing that the dataframes have been successfully combined."
   ]
  },
  {
   "cell_type": "markdown",
   "metadata": {},
   "source": [
    "### 1.3 Combine Text <a class=\"anchor\" id=\"chapter1_3\"></a>"
   ]
  },
  {
   "cell_type": "code",
   "execution_count": 11,
   "metadata": {},
   "outputs": [
    {
     "name": "stdout",
     "output_type": "stream",
     "text": [
      "name              0\n",
      "title             0\n",
      "selftext        101\n",
      "ups               0\n",
      "num_comments      0\n",
      "subreddit         0\n",
      "dtype: int64\n"
     ]
    }
   ],
   "source": [
    "print(data_df.isnull().sum()) # Checking for null values in the data"
   ]
  },
  {
   "cell_type": "markdown",
   "metadata": {},
   "source": [
    "Is is observed that there are 101 rows where `selftext` is NaN. As both the text from both the title and the body of the post are to be used in the model, the NaN values will be replaced by an empty string before combining."
   ]
  },
  {
   "cell_type": "code",
   "execution_count": 12,
   "metadata": {},
   "outputs": [],
   "source": [
    "data_df['selftext'].fillna('',inplace=True) # Replacing NaN values in 'selftext' with empty string"
   ]
  },
  {
   "cell_type": "code",
   "execution_count": 13,
   "metadata": {},
   "outputs": [
    {
     "name": "stdout",
     "output_type": "stream",
     "text": [
      "name            0\n",
      "title           0\n",
      "selftext        0\n",
      "ups             0\n",
      "num_comments    0\n",
      "subreddit       0\n",
      "dtype: int64\n"
     ]
    }
   ],
   "source": [
    "print(data_df.isnull().sum()) # Checking that null values have been removed."
   ]
  },
  {
   "cell_type": "code",
   "execution_count": 14,
   "metadata": {},
   "outputs": [],
   "source": [
    "# Create feature to store text of both title an body of post\n",
    "data_df['total_text'] = data_df['title'] + ' ' + data_df['selftext']"
   ]
  },
  {
   "cell_type": "code",
   "execution_count": 15,
   "metadata": {},
   "outputs": [
    {
     "data": {
      "text/html": [
       "<div>\n",
       "<style scoped>\n",
       "    .dataframe tbody tr th:only-of-type {\n",
       "        vertical-align: middle;\n",
       "    }\n",
       "\n",
       "    .dataframe tbody tr th {\n",
       "        vertical-align: top;\n",
       "    }\n",
       "\n",
       "    .dataframe thead th {\n",
       "        text-align: right;\n",
       "    }\n",
       "</style>\n",
       "<table border=\"1\" class=\"dataframe\">\n",
       "  <thead>\n",
       "    <tr style=\"text-align: right;\">\n",
       "      <th></th>\n",
       "      <th>name</th>\n",
       "      <th>title</th>\n",
       "      <th>selftext</th>\n",
       "      <th>ups</th>\n",
       "      <th>num_comments</th>\n",
       "      <th>subreddit</th>\n",
       "      <th>total_text</th>\n",
       "    </tr>\n",
       "  </thead>\n",
       "  <tbody>\n",
       "    <tr>\n",
       "      <th>0</th>\n",
       "      <td>t3_kvjlmn</td>\n",
       "      <td>TIFU By accidentally being racist to an Asian ...</td>\n",
       "      <td>Today I fucked up by being racist to my Asian ...</td>\n",
       "      <td>0</td>\n",
       "      <td>1</td>\n",
       "      <td>tifu</td>\n",
       "      <td>TIFU By accidentally being racist to an Asian ...</td>\n",
       "    </tr>\n",
       "    <tr>\n",
       "      <th>1</th>\n",
       "      <td>t3_kvjgp0</td>\n",
       "      <td>TIFU by ordering dish towels from Amazon (NSFW)</td>\n",
       "      <td>Obligatory this happened about 30 minutes ago ...</td>\n",
       "      <td>4</td>\n",
       "      <td>2</td>\n",
       "      <td>tifu</td>\n",
       "      <td>TIFU by ordering dish towels from Amazon (NSFW...</td>\n",
       "    </tr>\n",
       "    <tr>\n",
       "      <th>2</th>\n",
       "      <td>t3_kvj1zy</td>\n",
       "      <td>TIFU because I told the teacher I like drugs</td>\n",
       "      <td>Pretty short story... my math teacher was gett...</td>\n",
       "      <td>2</td>\n",
       "      <td>2</td>\n",
       "      <td>tifu</td>\n",
       "      <td>TIFU because I told the teacher I like drugs P...</td>\n",
       "    </tr>\n",
       "    <tr>\n",
       "      <th>3</th>\n",
       "      <td>t3_kvih6z</td>\n",
       "      <td>TIFU by losing my phone and getting picked up ...</td>\n",
       "      <td>This actually happened fall semester of 2004. ...</td>\n",
       "      <td>0</td>\n",
       "      <td>0</td>\n",
       "      <td>tifu</td>\n",
       "      <td>TIFU by losing my phone and getting picked up ...</td>\n",
       "    </tr>\n",
       "    <tr>\n",
       "      <th>4</th>\n",
       "      <td>t3_kvif4c</td>\n",
       "      <td>TIFU by setting out a digital picture frame</td>\n",
       "      <td>TIFU by setting out a digital picture frame\\n\\...</td>\n",
       "      <td>0</td>\n",
       "      <td>1</td>\n",
       "      <td>tifu</td>\n",
       "      <td>TIFU by setting out a digital picture frame TI...</td>\n",
       "    </tr>\n",
       "  </tbody>\n",
       "</table>\n",
       "</div>"
      ],
      "text/plain": [
       "        name                                              title  \\\n",
       "0  t3_kvjlmn  TIFU By accidentally being racist to an Asian ...   \n",
       "1  t3_kvjgp0    TIFU by ordering dish towels from Amazon (NSFW)   \n",
       "2  t3_kvj1zy       TIFU because I told the teacher I like drugs   \n",
       "3  t3_kvih6z  TIFU by losing my phone and getting picked up ...   \n",
       "4  t3_kvif4c        TIFU by setting out a digital picture frame   \n",
       "\n",
       "                                            selftext  ups  num_comments  \\\n",
       "0  Today I fucked up by being racist to my Asian ...    0             1   \n",
       "1  Obligatory this happened about 30 minutes ago ...    4             2   \n",
       "2  Pretty short story... my math teacher was gett...    2             2   \n",
       "3  This actually happened fall semester of 2004. ...    0             0   \n",
       "4  TIFU by setting out a digital picture frame\\n\\...    0             1   \n",
       "\n",
       "  subreddit                                         total_text  \n",
       "0      tifu  TIFU By accidentally being racist to an Asian ...  \n",
       "1      tifu  TIFU by ordering dish towels from Amazon (NSFW...  \n",
       "2      tifu  TIFU because I told the teacher I like drugs P...  \n",
       "3      tifu  TIFU by losing my phone and getting picked up ...  \n",
       "4      tifu  TIFU by setting out a digital picture frame TI...  "
      ]
     },
     "metadata": {},
     "output_type": "display_data"
    }
   ],
   "source": [
    "display(data_df.head())"
   ]
  },
  {
   "cell_type": "code",
   "execution_count": 16,
   "metadata": {},
   "outputs": [
    {
     "name": "stdout",
     "output_type": "stream",
     "text": [
      "TIFU By accidentally being racist to an Asian friend. Today I fucked up by being racist to my Asian friend. \n",
      "\n",
      "If I were to describe myself culturally, I would say I'm the \"Renaissance man\" type. I'm a humanist by nature &amp;amp; and a philanthropist through interest. \n",
      "\n",
      "Now if I were to describe my humor, I would say I'm a cross between Jim Carry &amp;amp; Dave Chappell. A couple of my two favorites comedians!\n",
      "\n",
      "So with that said. I tend to take joy in being involved in the different cultures of the world. I don't have a single negative idea for any culture at all.. because they are all cultures of man. (Maybe a bit hippy.. I must admit...) So the Dave chapel part comes into play because I find humor in cultural cues &amp;amp; ticks.. things that set us apart but make us the same all in all. \n",
      "\n",
      "So I met with my Asian friend a few days ago to take some photos of his flipping sweet new haircut. See, This is where I get people in my grips. I have their full attention &amp;amp; can speak into them; if they are open to conversation that is. A normal conversation typically revolves around advice giving &amp;amp; guidance into the future. It's all about building people's confidence up.\n",
      "\n",
      "Well, after the photo shoot i do my thing &amp;amp; organize some of the photos we had just taken. \n",
      "\n",
      "I send him two samples images with different lighting, with a simple question;\n",
      "\n",
      "Me: \"Hey which photo feels more like you?\"\n",
      "\n",
      "Asian friend: \"I like the darker one better!\"\n",
      "\n",
      "Me: \"Ah yeah! I forgot you where Chinese &amp;amp; not Korean!\"\n",
      "\n",
      "(....A few minutes pass.... When it dawns on me that I just said something completely stupid. The whole Asians look alike scenario hits me like a Mac truck in the rain.)\n",
      "\n",
      "Me: \"^^ In regards to face whitening!\"\n",
      "\n",
      "Me: sorry\n",
      "\n",
      ".... two hours pass\n",
      "\n",
      "Me: \"So uh, that joke was not funny at all. I'm sorry to even have said it. I got caught in the moment trying to be funny\"\n",
      " \n",
      "Yesterday \n",
      "\n",
      "Asian friend:\n",
      "\n",
      "\n",
      "Today \n",
      "\n",
      "Asian friend: \n",
      "\n",
      "--\n",
      "I even sent the post to Instagram with a tag &amp;amp; he has not shown up to interact yet.. Which he is always quick to.\n",
      "So uh, I think I just scared away a friend by seemingly being racist.. Jeeez\n",
      "\n",
      "\n",
      "TLDR; Accidentally made a joke suggesting Asians look alike. Asian friend hasn't answered in days.\n"
     ]
    }
   ],
   "source": [
    "print(data_df['total_text'][0]) # Display combined text"
   ]
  },
  {
   "cell_type": "markdown",
   "metadata": {},
   "source": [
    "### 1.4 Create Target <a class=\"anchor\" id=\"chapter1_4\"></a>"
   ]
  },
  {
   "cell_type": "markdown",
   "metadata": {},
   "source": [
    "Labels will be given as follows:\n",
    "- `1` for posts from `/r/tifu`\n",
    "- `0` for posts from `/r/confessions`"
   ]
  },
  {
   "cell_type": "code",
   "execution_count": 17,
   "metadata": {},
   "outputs": [],
   "source": [
    "data_df['classifier'] = data_df['subreddit'].map({'tifu':1,'confessions':0}) # Creating target column"
   ]
  },
  {
   "cell_type": "code",
   "execution_count": 18,
   "metadata": {},
   "outputs": [
    {
     "data": {
      "text/html": [
       "<div>\n",
       "<style scoped>\n",
       "    .dataframe tbody tr th:only-of-type {\n",
       "        vertical-align: middle;\n",
       "    }\n",
       "\n",
       "    .dataframe tbody tr th {\n",
       "        vertical-align: top;\n",
       "    }\n",
       "\n",
       "    .dataframe thead th {\n",
       "        text-align: right;\n",
       "    }\n",
       "</style>\n",
       "<table border=\"1\" class=\"dataframe\">\n",
       "  <thead>\n",
       "    <tr style=\"text-align: right;\">\n",
       "      <th></th>\n",
       "      <th>name</th>\n",
       "      <th>title</th>\n",
       "      <th>selftext</th>\n",
       "      <th>ups</th>\n",
       "      <th>num_comments</th>\n",
       "      <th>subreddit</th>\n",
       "      <th>total_text</th>\n",
       "      <th>classifier</th>\n",
       "    </tr>\n",
       "  </thead>\n",
       "  <tbody>\n",
       "    <tr>\n",
       "      <th>0</th>\n",
       "      <td>t3_kvjlmn</td>\n",
       "      <td>TIFU By accidentally being racist to an Asian ...</td>\n",
       "      <td>Today I fucked up by being racist to my Asian ...</td>\n",
       "      <td>0</td>\n",
       "      <td>1</td>\n",
       "      <td>tifu</td>\n",
       "      <td>TIFU By accidentally being racist to an Asian ...</td>\n",
       "      <td>1</td>\n",
       "    </tr>\n",
       "    <tr>\n",
       "      <th>1</th>\n",
       "      <td>t3_kvjgp0</td>\n",
       "      <td>TIFU by ordering dish towels from Amazon (NSFW)</td>\n",
       "      <td>Obligatory this happened about 30 minutes ago ...</td>\n",
       "      <td>4</td>\n",
       "      <td>2</td>\n",
       "      <td>tifu</td>\n",
       "      <td>TIFU by ordering dish towels from Amazon (NSFW...</td>\n",
       "      <td>1</td>\n",
       "    </tr>\n",
       "    <tr>\n",
       "      <th>2</th>\n",
       "      <td>t3_kvj1zy</td>\n",
       "      <td>TIFU because I told the teacher I like drugs</td>\n",
       "      <td>Pretty short story... my math teacher was gett...</td>\n",
       "      <td>2</td>\n",
       "      <td>2</td>\n",
       "      <td>tifu</td>\n",
       "      <td>TIFU because I told the teacher I like drugs P...</td>\n",
       "      <td>1</td>\n",
       "    </tr>\n",
       "    <tr>\n",
       "      <th>3</th>\n",
       "      <td>t3_kvih6z</td>\n",
       "      <td>TIFU by losing my phone and getting picked up ...</td>\n",
       "      <td>This actually happened fall semester of 2004. ...</td>\n",
       "      <td>0</td>\n",
       "      <td>0</td>\n",
       "      <td>tifu</td>\n",
       "      <td>TIFU by losing my phone and getting picked up ...</td>\n",
       "      <td>1</td>\n",
       "    </tr>\n",
       "    <tr>\n",
       "      <th>4</th>\n",
       "      <td>t3_kvif4c</td>\n",
       "      <td>TIFU by setting out a digital picture frame</td>\n",
       "      <td>TIFU by setting out a digital picture frame\\n\\...</td>\n",
       "      <td>0</td>\n",
       "      <td>1</td>\n",
       "      <td>tifu</td>\n",
       "      <td>TIFU by setting out a digital picture frame TI...</td>\n",
       "      <td>1</td>\n",
       "    </tr>\n",
       "  </tbody>\n",
       "</table>\n",
       "</div>"
      ],
      "text/plain": [
       "        name                                              title  \\\n",
       "0  t3_kvjlmn  TIFU By accidentally being racist to an Asian ...   \n",
       "1  t3_kvjgp0    TIFU by ordering dish towels from Amazon (NSFW)   \n",
       "2  t3_kvj1zy       TIFU because I told the teacher I like drugs   \n",
       "3  t3_kvih6z  TIFU by losing my phone and getting picked up ...   \n",
       "4  t3_kvif4c        TIFU by setting out a digital picture frame   \n",
       "\n",
       "                                            selftext  ups  num_comments  \\\n",
       "0  Today I fucked up by being racist to my Asian ...    0             1   \n",
       "1  Obligatory this happened about 30 minutes ago ...    4             2   \n",
       "2  Pretty short story... my math teacher was gett...    2             2   \n",
       "3  This actually happened fall semester of 2004. ...    0             0   \n",
       "4  TIFU by setting out a digital picture frame\\n\\...    0             1   \n",
       "\n",
       "  subreddit                                         total_text  classifier  \n",
       "0      tifu  TIFU By accidentally being racist to an Asian ...           1  \n",
       "1      tifu  TIFU by ordering dish towels from Amazon (NSFW...           1  \n",
       "2      tifu  TIFU because I told the teacher I like drugs P...           1  \n",
       "3      tifu  TIFU by losing my phone and getting picked up ...           1  \n",
       "4      tifu  TIFU by setting out a digital picture frame TI...           1  "
      ]
     },
     "metadata": {},
     "output_type": "display_data"
    }
   ],
   "source": [
    "display(data_df.head())"
   ]
  },
  {
   "cell_type": "markdown",
   "metadata": {},
   "source": [
    "### 1.5 Analysis and Insights <a class=\"anchor\" id=\"chapter1_5\"></a>"
   ]
  },
  {
   "cell_type": "code",
   "execution_count": 19,
   "metadata": {},
   "outputs": [],
   "source": [
    "# Creating features to look at the length of characters in the title and the body of the posts\n",
    "data_df['selftext_len'] = data_df['selftext'].map(lambda x: len(x))\n",
    "data_df['title_len'] = data_df['title'].map(lambda x: len(x))"
   ]
  },
  {
   "cell_type": "code",
   "execution_count": 20,
   "metadata": {},
   "outputs": [
    {
     "data": {
      "text/html": [
       "<div>\n",
       "<style scoped>\n",
       "    .dataframe tbody tr th:only-of-type {\n",
       "        vertical-align: middle;\n",
       "    }\n",
       "\n",
       "    .dataframe tbody tr th {\n",
       "        vertical-align: top;\n",
       "    }\n",
       "\n",
       "    .dataframe thead th {\n",
       "        text-align: right;\n",
       "    }\n",
       "</style>\n",
       "<table border=\"1\" class=\"dataframe\">\n",
       "  <thead>\n",
       "    <tr style=\"text-align: right;\">\n",
       "      <th></th>\n",
       "      <th>subreddit</th>\n",
       "      <th>confessions</th>\n",
       "      <th>tifu</th>\n",
       "    </tr>\n",
       "  </thead>\n",
       "  <tbody>\n",
       "    <tr>\n",
       "      <th rowspan=\"8\" valign=\"top\">ups</th>\n",
       "      <th>count</th>\n",
       "      <td>992.000000</td>\n",
       "      <td>997.000000</td>\n",
       "    </tr>\n",
       "    <tr>\n",
       "      <th>mean</th>\n",
       "      <td>75.271169</td>\n",
       "      <td>999.558676</td>\n",
       "    </tr>\n",
       "    <tr>\n",
       "      <th>std</th>\n",
       "      <td>551.937176</td>\n",
       "      <td>5177.492488</td>\n",
       "    </tr>\n",
       "    <tr>\n",
       "      <th>min</th>\n",
       "      <td>0.000000</td>\n",
       "      <td>0.000000</td>\n",
       "    </tr>\n",
       "    <tr>\n",
       "      <th>25%</th>\n",
       "      <td>0.000000</td>\n",
       "      <td>7.000000</td>\n",
       "    </tr>\n",
       "    <tr>\n",
       "      <th>50%</th>\n",
       "      <td>3.000000</td>\n",
       "      <td>18.000000</td>\n",
       "    </tr>\n",
       "    <tr>\n",
       "      <th>75%</th>\n",
       "      <td>7.000000</td>\n",
       "      <td>58.000000</td>\n",
       "    </tr>\n",
       "    <tr>\n",
       "      <th>max</th>\n",
       "      <td>7390.000000</td>\n",
       "      <td>66113.000000</td>\n",
       "    </tr>\n",
       "    <tr>\n",
       "      <th rowspan=\"8\" valign=\"top\">num_comments</th>\n",
       "      <th>count</th>\n",
       "      <td>992.000000</td>\n",
       "      <td>997.000000</td>\n",
       "    </tr>\n",
       "    <tr>\n",
       "      <th>mean</th>\n",
       "      <td>12.740927</td>\n",
       "      <td>57.308927</td>\n",
       "    </tr>\n",
       "    <tr>\n",
       "      <th>std</th>\n",
       "      <td>52.051345</td>\n",
       "      <td>243.364587</td>\n",
       "    </tr>\n",
       "    <tr>\n",
       "      <th>min</th>\n",
       "      <td>0.000000</td>\n",
       "      <td>0.000000</td>\n",
       "    </tr>\n",
       "    <tr>\n",
       "      <th>25%</th>\n",
       "      <td>2.000000</td>\n",
       "      <td>4.000000</td>\n",
       "    </tr>\n",
       "    <tr>\n",
       "      <th>50%</th>\n",
       "      <td>4.000000</td>\n",
       "      <td>9.000000</td>\n",
       "    </tr>\n",
       "    <tr>\n",
       "      <th>75%</th>\n",
       "      <td>9.000000</td>\n",
       "      <td>19.000000</td>\n",
       "    </tr>\n",
       "    <tr>\n",
       "      <th>max</th>\n",
       "      <td>1011.000000</td>\n",
       "      <td>3214.000000</td>\n",
       "    </tr>\n",
       "    <tr>\n",
       "      <th rowspan=\"8\" valign=\"top\">classifier</th>\n",
       "      <th>count</th>\n",
       "      <td>992.000000</td>\n",
       "      <td>997.000000</td>\n",
       "    </tr>\n",
       "    <tr>\n",
       "      <th>mean</th>\n",
       "      <td>0.000000</td>\n",
       "      <td>1.000000</td>\n",
       "    </tr>\n",
       "    <tr>\n",
       "      <th>std</th>\n",
       "      <td>0.000000</td>\n",
       "      <td>0.000000</td>\n",
       "    </tr>\n",
       "    <tr>\n",
       "      <th>min</th>\n",
       "      <td>0.000000</td>\n",
       "      <td>1.000000</td>\n",
       "    </tr>\n",
       "    <tr>\n",
       "      <th>25%</th>\n",
       "      <td>0.000000</td>\n",
       "      <td>1.000000</td>\n",
       "    </tr>\n",
       "    <tr>\n",
       "      <th>50%</th>\n",
       "      <td>0.000000</td>\n",
       "      <td>1.000000</td>\n",
       "    </tr>\n",
       "    <tr>\n",
       "      <th>75%</th>\n",
       "      <td>0.000000</td>\n",
       "      <td>1.000000</td>\n",
       "    </tr>\n",
       "    <tr>\n",
       "      <th>max</th>\n",
       "      <td>0.000000</td>\n",
       "      <td>1.000000</td>\n",
       "    </tr>\n",
       "    <tr>\n",
       "      <th rowspan=\"8\" valign=\"top\">selftext_len</th>\n",
       "      <th>count</th>\n",
       "      <td>992.000000</td>\n",
       "      <td>997.000000</td>\n",
       "    </tr>\n",
       "    <tr>\n",
       "      <th>mean</th>\n",
       "      <td>919.254032</td>\n",
       "      <td>1923.568706</td>\n",
       "    </tr>\n",
       "    <tr>\n",
       "      <th>std</th>\n",
       "      <td>1312.705425</td>\n",
       "      <td>1088.812054</td>\n",
       "    </tr>\n",
       "    <tr>\n",
       "      <th>min</th>\n",
       "      <td>0.000000</td>\n",
       "      <td>752.000000</td>\n",
       "    </tr>\n",
       "    <tr>\n",
       "      <th>25%</th>\n",
       "      <td>176.000000</td>\n",
       "      <td>1159.000000</td>\n",
       "    </tr>\n",
       "    <tr>\n",
       "      <th>50%</th>\n",
       "      <td>542.500000</td>\n",
       "      <td>1609.000000</td>\n",
       "    </tr>\n",
       "    <tr>\n",
       "      <th>75%</th>\n",
       "      <td>1191.000000</td>\n",
       "      <td>2378.000000</td>\n",
       "    </tr>\n",
       "    <tr>\n",
       "      <th>max</th>\n",
       "      <td>17632.000000</td>\n",
       "      <td>11721.000000</td>\n",
       "    </tr>\n",
       "    <tr>\n",
       "      <th rowspan=\"8\" valign=\"top\">title_len</th>\n",
       "      <th>count</th>\n",
       "      <td>992.000000</td>\n",
       "      <td>997.000000</td>\n",
       "    </tr>\n",
       "    <tr>\n",
       "      <th>mean</th>\n",
       "      <td>56.845766</td>\n",
       "      <td>51.615848</td>\n",
       "    </tr>\n",
       "    <tr>\n",
       "      <th>std</th>\n",
       "      <td>41.704881</td>\n",
       "      <td>23.593569</td>\n",
       "    </tr>\n",
       "    <tr>\n",
       "      <th>min</th>\n",
       "      <td>3.000000</td>\n",
       "      <td>10.000000</td>\n",
       "    </tr>\n",
       "    <tr>\n",
       "      <th>25%</th>\n",
       "      <td>29.000000</td>\n",
       "      <td>35.000000</td>\n",
       "    </tr>\n",
       "    <tr>\n",
       "      <th>50%</th>\n",
       "      <td>47.000000</td>\n",
       "      <td>47.000000</td>\n",
       "    </tr>\n",
       "    <tr>\n",
       "      <th>75%</th>\n",
       "      <td>72.250000</td>\n",
       "      <td>62.000000</td>\n",
       "    </tr>\n",
       "    <tr>\n",
       "      <th>max</th>\n",
       "      <td>299.000000</td>\n",
       "      <td>220.000000</td>\n",
       "    </tr>\n",
       "  </tbody>\n",
       "</table>\n",
       "</div>"
      ],
      "text/plain": [
       "subreddit            confessions          tifu\n",
       "ups          count    992.000000    997.000000\n",
       "             mean      75.271169    999.558676\n",
       "             std      551.937176   5177.492488\n",
       "             min        0.000000      0.000000\n",
       "             25%        0.000000      7.000000\n",
       "             50%        3.000000     18.000000\n",
       "             75%        7.000000     58.000000\n",
       "             max     7390.000000  66113.000000\n",
       "num_comments count    992.000000    997.000000\n",
       "             mean      12.740927     57.308927\n",
       "             std       52.051345    243.364587\n",
       "             min        0.000000      0.000000\n",
       "             25%        2.000000      4.000000\n",
       "             50%        4.000000      9.000000\n",
       "             75%        9.000000     19.000000\n",
       "             max     1011.000000   3214.000000\n",
       "classifier   count    992.000000    997.000000\n",
       "             mean       0.000000      1.000000\n",
       "             std        0.000000      0.000000\n",
       "             min        0.000000      1.000000\n",
       "             25%        0.000000      1.000000\n",
       "             50%        0.000000      1.000000\n",
       "             75%        0.000000      1.000000\n",
       "             max        0.000000      1.000000\n",
       "selftext_len count    992.000000    997.000000\n",
       "             mean     919.254032   1923.568706\n",
       "             std     1312.705425   1088.812054\n",
       "             min        0.000000    752.000000\n",
       "             25%      176.000000   1159.000000\n",
       "             50%      542.500000   1609.000000\n",
       "             75%     1191.000000   2378.000000\n",
       "             max    17632.000000  11721.000000\n",
       "title_len    count    992.000000    997.000000\n",
       "             mean      56.845766     51.615848\n",
       "             std       41.704881     23.593569\n",
       "             min        3.000000     10.000000\n",
       "             25%       29.000000     35.000000\n",
       "             50%       47.000000     47.000000\n",
       "             75%       72.250000     62.000000\n",
       "             max      299.000000    220.000000"
      ]
     },
     "metadata": {},
     "output_type": "display_data"
    }
   ],
   "source": [
    "display(data_df.groupby('subreddit').describe().T)"
   ]
  },
  {
   "cell_type": "markdown",
   "metadata": {},
   "source": [
    "Findings:\n",
    "- Mean of `/r/tifu` upvotes is significant higher than `/r/confessions`\n",
    "- Mean of `/r/tifu` number of comments is significant higher than `/r/confessions`\n",
    "- Length of body in `/r/tifu` is generally higher than `/r/confessions`\n",
    "- Length of title in `/r/tifu` is generally about the same as `/r/confessions`\n",
    "\n",
    "Insights:\n",
    "- Findings of the upvotes and number of comments is consistent with our understand of the subreddit as `/r/tifu` has ~16.7 million members compared to `/r/confessions` with ~0.8 million members\n",
    "- While both subreddits belong to the story category, posts in `/r/tifu` tend to be a lot more descriptive\n",
    "- Title of the posts however, have no significant variance between the two (likely due to a character limit in the title of the posts)"
   ]
  },
  {
   "cell_type": "code",
   "execution_count": 21,
   "metadata": {},
   "outputs": [
    {
     "data": {
      "image/png": "[encoded data removed]",
      "text/plain": [
       "<Figure size 1246.62x576 with 1 Axes>"
      ]
     },
     "metadata": {
      "needs_background": "light"
     },
     "output_type": "display_data"
    }
   ],
   "source": [
    "# Plotting distribution of length of body in /r/tifu compared to /r/confessions\n",
    "sns.displot(data_df, x='selftext_len', hue='subreddit', kind = 'hist', height = 8, aspect = 2,)\n",
    "plt.title(\"Character length of body of posts\",fontsize=20);"
   ]
  },
  {
   "cell_type": "markdown",
   "metadata": {},
   "source": [
    "- Observed that the length of text in the body of `/r/tifu` posts are generally higher than that of `/r/confessions`"
   ]
  },
  {
   "cell_type": "code",
   "execution_count": 22,
   "metadata": {
    "scrolled": true
   },
   "outputs": [
    {
     "data": {
      "image/png": "[encoded data removed]",
      "text/plain": [
       "<Figure size 1246.62x576 with 1 Axes>"
      ]
     },
     "metadata": {
      "needs_background": "light"
     },
     "output_type": "display_data"
    }
   ],
   "source": [
    "# Plotting distribution of length of title in /r/tifu compared to /r/confessions\n",
    "sns.displot(data_df, x='title_len', hue='subreddit', kind = 'hist', height = 8, aspect = 2)\n",
    "plt.title(\"Character length of title of posts\",fontsize=20);"
   ]
  },
  {
   "cell_type": "markdown",
   "metadata": {},
   "source": [
    "- Observed that the distribution of length of title are roughly similar"
   ]
  },
  {
   "cell_type": "code",
   "execution_count": 23,
   "metadata": {},
   "outputs": [],
   "source": [
    "data_df.to_csv('../data/clean_data.csv',index=False)"
   ]
  },
  {
   "cell_type": "markdown",
   "metadata": {},
   "source": [
    "## 2. Text Processing <a class=\"anchor\" id=\"chapter2\"></a>\n",
    "---"
   ]
  },
  {
   "cell_type": "markdown",
   "metadata": {},
   "source": [
    "The model will be making use of the combined text data from the title and the body of the posts. From the text, 3 versions will be created to use for the model. \n",
    "\n",
    "- `text_base`: Tokenizing the text using regex to remove characters and only keep the words. To be used for model selection.\n",
    "- `text_lem`: Lemmatizing the `text_base` to examine effect on selected model\n",
    "- `text_stem`: Stemming the `text_base` to examine effect on selected model"
   ]
  },
  {
   "cell_type": "code",
   "execution_count": 24,
   "metadata": {},
   "outputs": [],
   "source": [
    "# Isolating only text field and target variable\n",
    "text_df = data_df.filter(['total_text','classifier'],axis=1)"
   ]
  },
  {
   "cell_type": "code",
   "execution_count": 25,
   "metadata": {},
   "outputs": [
    {
     "data": {
      "text/html": [
       "<div>\n",
       "<style scoped>\n",
       "    .dataframe tbody tr th:only-of-type {\n",
       "        vertical-align: middle;\n",
       "    }\n",
       "\n",
       "    .dataframe tbody tr th {\n",
       "        vertical-align: top;\n",
       "    }\n",
       "\n",
       "    .dataframe thead th {\n",
       "        text-align: right;\n",
       "    }\n",
       "</style>\n",
       "<table border=\"1\" class=\"dataframe\">\n",
       "  <thead>\n",
       "    <tr style=\"text-align: right;\">\n",
       "      <th></th>\n",
       "      <th>text_raw</th>\n",
       "      <th>is_tifu</th>\n",
       "    </tr>\n",
       "  </thead>\n",
       "  <tbody>\n",
       "    <tr>\n",
       "      <th>0</th>\n",
       "      <td>TIFU By accidentally being racist to an Asian ...</td>\n",
       "      <td>1</td>\n",
       "    </tr>\n",
       "    <tr>\n",
       "      <th>1</th>\n",
       "      <td>TIFU by ordering dish towels from Amazon (NSFW...</td>\n",
       "      <td>1</td>\n",
       "    </tr>\n",
       "    <tr>\n",
       "      <th>2</th>\n",
       "      <td>TIFU because I told the teacher I like drugs P...</td>\n",
       "      <td>1</td>\n",
       "    </tr>\n",
       "    <tr>\n",
       "      <th>3</th>\n",
       "      <td>TIFU by losing my phone and getting picked up ...</td>\n",
       "      <td>1</td>\n",
       "    </tr>\n",
       "    <tr>\n",
       "      <th>4</th>\n",
       "      <td>TIFU by setting out a digital picture frame TI...</td>\n",
       "      <td>1</td>\n",
       "    </tr>\n",
       "  </tbody>\n",
       "</table>\n",
       "</div>"
      ],
      "text/plain": [
       "                                            text_raw  is_tifu\n",
       "0  TIFU By accidentally being racist to an Asian ...        1\n",
       "1  TIFU by ordering dish towels from Amazon (NSFW...        1\n",
       "2  TIFU because I told the teacher I like drugs P...        1\n",
       "3  TIFU by losing my phone and getting picked up ...        1\n",
       "4  TIFU by setting out a digital picture frame TI...        1"
      ]
     },
     "metadata": {},
     "output_type": "display_data"
    }
   ],
   "source": [
    "# Renaming columns\n",
    "text_df.rename({'total_text':'text_raw',\n",
    "               'classifier':'is_tifu'},\n",
    "               axis=1,\n",
    "               inplace=True)\n",
    "display(text_df.head())"
   ]
  },
  {
   "cell_type": "markdown",
   "metadata": {},
   "source": [
    "### 2.1 Tokenizing and Outlier Removal <a class=\"anchor\" id=\"chapter2_1\"></a>"
   ]
  },
  {
   "cell_type": "code",
   "execution_count": 26,
   "metadata": {},
   "outputs": [],
   "source": [
    "# Instantiate Tokenizer\n",
    "tokenizer1 = RegexpTokenizer(r\"\\w+[\\’\\'\\\"]?\\w+\")"
   ]
  },
  {
   "cell_type": "code",
   "execution_count": 27,
   "metadata": {},
   "outputs": [],
   "source": [
    "# Creating column to store text lowercased, tokenized text\n",
    "text_df['text_token']=text_df['text_raw'].map(lambda x: tokenizer1.tokenize(x.lower()))"
   ]
  },
  {
   "cell_type": "markdown",
   "metadata": {},
   "source": [
    "At this point, there are some instances of posts where the title and the text of the post consists entirely of emoticons. The data science problem is to classify the posts into subreddit based on words contained in the post. These posts do not have any words in them and are classified as outliers, which will be removed."
   ]
  },
  {
   "cell_type": "code",
   "execution_count": 28,
   "metadata": {},
   "outputs": [
    {
     "data": {
      "text/html": [
       "<div>\n",
       "<style scoped>\n",
       "    .dataframe tbody tr th:only-of-type {\n",
       "        vertical-align: middle;\n",
       "    }\n",
       "\n",
       "    .dataframe tbody tr th {\n",
       "        vertical-align: top;\n",
       "    }\n",
       "\n",
       "    .dataframe thead th {\n",
       "        text-align: right;\n",
       "    }\n",
       "</style>\n",
       "<table border=\"1\" class=\"dataframe\">\n",
       "  <thead>\n",
       "    <tr style=\"text-align: right;\">\n",
       "      <th></th>\n",
       "      <th>text_raw</th>\n",
       "      <th>is_tifu</th>\n",
       "      <th>text_token</th>\n",
       "    </tr>\n",
       "  </thead>\n",
       "  <tbody>\n",
       "    <tr>\n",
       "      <th>1250</th>\n",
       "      <td>🦀🦀🦀🦀🦀🦀🦀🦀🦀🦀🦀🦀🦀🦀🦀🦀🦀🦀🦀🦀🦀🦀🦀🦀🦀🦀🦀🦀🦀🦀🦀🦀🦀🦀🦀🦀🦀🦀 🦀🦀🦀🦀🦀🦀🦀...</td>\n",
       "      <td>0</td>\n",
       "      <td>[]</td>\n",
       "    </tr>\n",
       "    <tr>\n",
       "      <th>1411</th>\n",
       "      <td>🍆🤏😥</td>\n",
       "      <td>0</td>\n",
       "      <td>[]</td>\n",
       "    </tr>\n",
       "    <tr>\n",
       "      <th>1494</th>\n",
       "      <td>💩 👞</td>\n",
       "      <td>0</td>\n",
       "      <td>[]</td>\n",
       "    </tr>\n",
       "  </tbody>\n",
       "</table>\n",
       "</div>"
      ],
      "text/plain": [
       "                                               text_raw  is_tifu text_token\n",
       "1250  🦀🦀🦀🦀🦀🦀🦀🦀🦀🦀🦀🦀🦀🦀🦀🦀🦀🦀🦀🦀🦀🦀🦀🦀🦀🦀🦀🦀🦀🦀🦀🦀🦀🦀🦀🦀🦀🦀 🦀🦀🦀🦀🦀🦀🦀...        0         []\n",
       "1411                                               🍆🤏😥         0         []\n",
       "1494                                               💩 👞         0         []"
      ]
     },
     "metadata": {},
     "output_type": "display_data"
    }
   ],
   "source": [
    "# Identifying posts with no words in title and body of posts\n",
    "display(text_df[text_df['text_token'].apply(lambda x: len(x))==0])"
   ]
  },
  {
   "cell_type": "code",
   "execution_count": 29,
   "metadata": {},
   "outputs": [],
   "source": [
    "# Removing outliers from data\n",
    "text_df = text_df[text_df['text_token'].apply(lambda x: len(x))>0]"
   ]
  },
  {
   "cell_type": "code",
   "execution_count": 30,
   "metadata": {},
   "outputs": [],
   "source": [
    "# Creating 'text_base' feature, which will be used as the X variable for model selection\n",
    "text_df['text_base'] = text_df['text_token'].map(lambda x: ' '.join(x))"
   ]
  },
  {
   "cell_type": "code",
   "execution_count": 31,
   "metadata": {},
   "outputs": [
    {
     "data": {
      "text/plain": [
       "['tifu',\n",
       " 'by',\n",
       " 'accidentally',\n",
       " 'being',\n",
       " 'racist',\n",
       " 'to',\n",
       " 'an',\n",
       " 'asian',\n",
       " 'friend',\n",
       " 'today',\n",
       " 'fucked',\n",
       " 'up',\n",
       " 'by',\n",
       " 'being',\n",
       " 'racist',\n",
       " 'to',\n",
       " 'my',\n",
       " 'asian',\n",
       " 'friend',\n",
       " 'if',\n",
       " 'were',\n",
       " 'to',\n",
       " 'describe',\n",
       " 'myself',\n",
       " 'culturally',\n",
       " 'would',\n",
       " 'say',\n",
       " \"i'm\",\n",
       " 'the',\n",
       " 'renaissance',\n",
       " 'man',\n",
       " 'type',\n",
       " \"i'm\",\n",
       " 'humanist',\n",
       " 'by',\n",
       " 'nature',\n",
       " 'amp',\n",
       " 'amp',\n",
       " 'and',\n",
       " 'philanthropist',\n",
       " 'through',\n",
       " 'interest',\n",
       " 'now',\n",
       " 'if',\n",
       " 'were',\n",
       " 'to',\n",
       " 'describe',\n",
       " 'my',\n",
       " 'humor',\n",
       " 'would',\n",
       " 'say',\n",
       " \"i'm\",\n",
       " 'cross',\n",
       " 'between',\n",
       " 'jim',\n",
       " 'carry',\n",
       " 'amp',\n",
       " 'amp',\n",
       " 'dave',\n",
       " 'chappell',\n",
       " 'couple',\n",
       " 'of',\n",
       " 'my',\n",
       " 'two',\n",
       " 'favorites',\n",
       " 'comedians',\n",
       " 'so',\n",
       " 'with',\n",
       " 'that',\n",
       " 'said',\n",
       " 'tend',\n",
       " 'to',\n",
       " 'take',\n",
       " 'joy',\n",
       " 'in',\n",
       " 'being',\n",
       " 'involved',\n",
       " 'in',\n",
       " 'the',\n",
       " 'different',\n",
       " 'cultures',\n",
       " 'of',\n",
       " 'the',\n",
       " 'world',\n",
       " \"don't\",\n",
       " 'have',\n",
       " 'single',\n",
       " 'negative',\n",
       " 'idea',\n",
       " 'for',\n",
       " 'any',\n",
       " 'culture',\n",
       " 'at',\n",
       " 'all',\n",
       " 'because',\n",
       " 'they',\n",
       " 'are',\n",
       " 'all',\n",
       " 'cultures',\n",
       " 'of',\n",
       " 'man',\n",
       " 'maybe',\n",
       " 'bit',\n",
       " 'hippy',\n",
       " 'must',\n",
       " 'admit',\n",
       " 'so',\n",
       " 'the',\n",
       " 'dave',\n",
       " 'chapel',\n",
       " 'part',\n",
       " 'comes',\n",
       " 'into',\n",
       " 'play',\n",
       " 'because',\n",
       " 'find',\n",
       " 'humor',\n",
       " 'in',\n",
       " 'cultural',\n",
       " 'cues',\n",
       " 'amp',\n",
       " 'amp',\n",
       " 'ticks',\n",
       " 'things',\n",
       " 'that',\n",
       " 'set',\n",
       " 'us',\n",
       " 'apart',\n",
       " 'but',\n",
       " 'make',\n",
       " 'us',\n",
       " 'the',\n",
       " 'same',\n",
       " 'all',\n",
       " 'in',\n",
       " 'all',\n",
       " 'so',\n",
       " 'met',\n",
       " 'with',\n",
       " 'my',\n",
       " 'asian',\n",
       " 'friend',\n",
       " 'few',\n",
       " 'days',\n",
       " 'ago',\n",
       " 'to',\n",
       " 'take',\n",
       " 'some',\n",
       " 'photos',\n",
       " 'of',\n",
       " 'his',\n",
       " 'flipping',\n",
       " 'sweet',\n",
       " 'new',\n",
       " 'haircut',\n",
       " 'see',\n",
       " 'this',\n",
       " 'is',\n",
       " 'where',\n",
       " 'get',\n",
       " 'people',\n",
       " 'in',\n",
       " 'my',\n",
       " 'grips',\n",
       " 'have',\n",
       " 'their',\n",
       " 'full',\n",
       " 'attention',\n",
       " 'amp',\n",
       " 'amp',\n",
       " 'can',\n",
       " 'speak',\n",
       " 'into',\n",
       " 'them',\n",
       " 'if',\n",
       " 'they',\n",
       " 'are',\n",
       " 'open',\n",
       " 'to',\n",
       " 'conversation',\n",
       " 'that',\n",
       " 'is',\n",
       " 'normal',\n",
       " 'conversation',\n",
       " 'typically',\n",
       " 'revolves',\n",
       " 'around',\n",
       " 'advice',\n",
       " 'giving',\n",
       " 'amp',\n",
       " 'amp',\n",
       " 'guidance',\n",
       " 'into',\n",
       " 'the',\n",
       " 'future',\n",
       " \"it's\",\n",
       " 'all',\n",
       " 'about',\n",
       " 'building',\n",
       " \"people's\",\n",
       " 'confidence',\n",
       " 'up',\n",
       " 'well',\n",
       " 'after',\n",
       " 'the',\n",
       " 'photo',\n",
       " 'shoot',\n",
       " 'do',\n",
       " 'my',\n",
       " 'thing',\n",
       " 'amp',\n",
       " 'amp',\n",
       " 'organize',\n",
       " 'some',\n",
       " 'of',\n",
       " 'the',\n",
       " 'photos',\n",
       " 'we',\n",
       " 'had',\n",
       " 'just',\n",
       " 'taken',\n",
       " 'send',\n",
       " 'him',\n",
       " 'two',\n",
       " 'samples',\n",
       " 'images',\n",
       " 'with',\n",
       " 'different',\n",
       " 'lighting',\n",
       " 'with',\n",
       " 'simple',\n",
       " 'question',\n",
       " 'me',\n",
       " 'hey',\n",
       " 'which',\n",
       " 'photo',\n",
       " 'feels',\n",
       " 'more',\n",
       " 'like',\n",
       " 'you',\n",
       " 'asian',\n",
       " 'friend',\n",
       " 'like',\n",
       " 'the',\n",
       " 'darker',\n",
       " 'one',\n",
       " 'better',\n",
       " 'me',\n",
       " 'ah',\n",
       " 'yeah',\n",
       " 'forgot',\n",
       " 'you',\n",
       " 'where',\n",
       " 'chinese',\n",
       " 'amp',\n",
       " 'amp',\n",
       " 'not',\n",
       " 'korean',\n",
       " 'few',\n",
       " 'minutes',\n",
       " 'pass',\n",
       " 'when',\n",
       " 'it',\n",
       " 'dawns',\n",
       " 'on',\n",
       " 'me',\n",
       " 'that',\n",
       " 'just',\n",
       " 'said',\n",
       " 'something',\n",
       " 'completely',\n",
       " 'stupid',\n",
       " 'the',\n",
       " 'whole',\n",
       " 'asians',\n",
       " 'look',\n",
       " 'alike',\n",
       " 'scenario',\n",
       " 'hits',\n",
       " 'me',\n",
       " 'like',\n",
       " 'mac',\n",
       " 'truck',\n",
       " 'in',\n",
       " 'the',\n",
       " 'rain',\n",
       " 'me',\n",
       " 'in',\n",
       " 'regards',\n",
       " 'to',\n",
       " 'face',\n",
       " 'whitening',\n",
       " 'me',\n",
       " 'sorry',\n",
       " 'two',\n",
       " 'hours',\n",
       " 'pass',\n",
       " 'me',\n",
       " 'so',\n",
       " 'uh',\n",
       " 'that',\n",
       " 'joke',\n",
       " 'was',\n",
       " 'not',\n",
       " 'funny',\n",
       " 'at',\n",
       " 'all',\n",
       " \"i'm\",\n",
       " 'sorry',\n",
       " 'to',\n",
       " 'even',\n",
       " 'have',\n",
       " 'said',\n",
       " 'it',\n",
       " 'got',\n",
       " 'caught',\n",
       " 'in',\n",
       " 'the',\n",
       " 'moment',\n",
       " 'trying',\n",
       " 'to',\n",
       " 'be',\n",
       " 'funny',\n",
       " 'yesterday',\n",
       " 'asian',\n",
       " 'friend',\n",
       " 'today',\n",
       " 'asian',\n",
       " 'friend',\n",
       " 'even',\n",
       " 'sent',\n",
       " 'the',\n",
       " 'post',\n",
       " 'to',\n",
       " 'instagram',\n",
       " 'with',\n",
       " 'tag',\n",
       " 'amp',\n",
       " 'amp',\n",
       " 'he',\n",
       " 'has',\n",
       " 'not',\n",
       " 'shown',\n",
       " 'up',\n",
       " 'to',\n",
       " 'interact',\n",
       " 'yet',\n",
       " 'which',\n",
       " 'he',\n",
       " 'is',\n",
       " 'always',\n",
       " 'quick',\n",
       " 'to',\n",
       " 'so',\n",
       " 'uh',\n",
       " 'think',\n",
       " 'just',\n",
       " 'scared',\n",
       " 'away',\n",
       " 'friend',\n",
       " 'by',\n",
       " 'seemingly',\n",
       " 'being',\n",
       " 'racist',\n",
       " 'jeeez',\n",
       " 'tldr',\n",
       " 'accidentally',\n",
       " 'made',\n",
       " 'joke',\n",
       " 'suggesting',\n",
       " 'asians',\n",
       " 'look',\n",
       " 'alike',\n",
       " 'asian',\n",
       " 'friend',\n",
       " \"hasn't\",\n",
       " 'answered',\n",
       " 'in',\n",
       " 'days']"
      ]
     },
     "execution_count": 31,
     "metadata": {},
     "output_type": "execute_result"
    }
   ],
   "source": [
    "text_df['text_token'][0]"
   ]
  },
  {
   "cell_type": "code",
   "execution_count": 32,
   "metadata": {},
   "outputs": [
    {
     "name": "stdout",
     "output_type": "stream",
     "text": [
      "tifu by accidentally being racist to an asian friend today fucked up by being racist to my asian friend if were to describe myself culturally would say i'm the renaissance man type i'm humanist by nature amp amp and philanthropist through interest now if were to describe my humor would say i'm cross between jim carry amp amp dave chappell couple of my two favorites comedians so with that said tend to take joy in being involved in the different cultures of the world don't have single negative idea for any culture at all because they are all cultures of man maybe bit hippy must admit so the dave chapel part comes into play because find humor in cultural cues amp amp ticks things that set us apart but make us the same all in all so met with my asian friend few days ago to take some photos of his flipping sweet new haircut see this is where get people in my grips have their full attention amp amp can speak into them if they are open to conversation that is normal conversation typically revolves around advice giving amp amp guidance into the future it's all about building people's confidence up well after the photo shoot do my thing amp amp organize some of the photos we had just taken send him two samples images with different lighting with simple question me hey which photo feels more like you asian friend like the darker one better me ah yeah forgot you where chinese amp amp not korean few minutes pass when it dawns on me that just said something completely stupid the whole asians look alike scenario hits me like mac truck in the rain me in regards to face whitening me sorry two hours pass me so uh that joke was not funny at all i'm sorry to even have said it got caught in the moment trying to be funny yesterday asian friend today asian friend even sent the post to instagram with tag amp amp he has not shown up to interact yet which he is always quick to so uh think just scared away friend by seemingly being racist jeeez tldr accidentally made joke suggesting asians look alike asian friend hasn't answered in days\n"
     ]
    }
   ],
   "source": [
    "print(text_df['text_base'][0])"
   ]
  },
  {
   "cell_type": "markdown",
   "metadata": {},
   "source": [
    "### 2.2 Lemmatizing <a class=\"anchor\" id=\"chapter2_2\"></a>"
   ]
  },
  {
   "cell_type": "code",
   "execution_count": 33,
   "metadata": {},
   "outputs": [],
   "source": [
    "# Instantiate Lemmatizer\n",
    "lemmatizer = WordNetLemmatizer()"
   ]
  },
  {
   "cell_type": "code",
   "execution_count": 34,
   "metadata": {},
   "outputs": [],
   "source": [
    "# Creating feature with lemmatized text\n",
    "text_df['text_lem']=text_df['text_token'].map(lambda x: ' '.join([lemmatizer.lemmatize(word) for word in x]))"
   ]
  },
  {
   "cell_type": "code",
   "execution_count": 35,
   "metadata": {},
   "outputs": [
    {
     "data": {
      "text/html": [
       "<div>\n",
       "<style scoped>\n",
       "    .dataframe tbody tr th:only-of-type {\n",
       "        vertical-align: middle;\n",
       "    }\n",
       "\n",
       "    .dataframe tbody tr th {\n",
       "        vertical-align: top;\n",
       "    }\n",
       "\n",
       "    .dataframe thead th {\n",
       "        text-align: right;\n",
       "    }\n",
       "</style>\n",
       "<table border=\"1\" class=\"dataframe\">\n",
       "  <thead>\n",
       "    <tr style=\"text-align: right;\">\n",
       "      <th></th>\n",
       "      <th>text_raw</th>\n",
       "      <th>is_tifu</th>\n",
       "      <th>text_token</th>\n",
       "      <th>text_base</th>\n",
       "      <th>text_lem</th>\n",
       "    </tr>\n",
       "  </thead>\n",
       "  <tbody>\n",
       "    <tr>\n",
       "      <th>0</th>\n",
       "      <td>TIFU By accidentally being racist to an Asian ...</td>\n",
       "      <td>1</td>\n",
       "      <td>[tifu, by, accidentally, being, racist, to, an...</td>\n",
       "      <td>tifu by accidentally being racist to an asian ...</td>\n",
       "      <td>tifu by accidentally being racist to an asian ...</td>\n",
       "    </tr>\n",
       "    <tr>\n",
       "      <th>1</th>\n",
       "      <td>TIFU by ordering dish towels from Amazon (NSFW...</td>\n",
       "      <td>1</td>\n",
       "      <td>[tifu, by, ordering, dish, towels, from, amazo...</td>\n",
       "      <td>tifu by ordering dish towels from amazon nsfw ...</td>\n",
       "      <td>tifu by ordering dish towel from amazon nsfw o...</td>\n",
       "    </tr>\n",
       "    <tr>\n",
       "      <th>2</th>\n",
       "      <td>TIFU because I told the teacher I like drugs P...</td>\n",
       "      <td>1</td>\n",
       "      <td>[tifu, because, told, the, teacher, like, drug...</td>\n",
       "      <td>tifu because told the teacher like drugs prett...</td>\n",
       "      <td>tifu because told the teacher like drug pretty...</td>\n",
       "    </tr>\n",
       "    <tr>\n",
       "      <th>3</th>\n",
       "      <td>TIFU by losing my phone and getting picked up ...</td>\n",
       "      <td>1</td>\n",
       "      <td>[tifu, by, losing, my, phone, and, getting, pi...</td>\n",
       "      <td>tifu by losing my phone and getting picked up ...</td>\n",
       "      <td>tifu by losing my phone and getting picked up ...</td>\n",
       "    </tr>\n",
       "    <tr>\n",
       "      <th>4</th>\n",
       "      <td>TIFU by setting out a digital picture frame TI...</td>\n",
       "      <td>1</td>\n",
       "      <td>[tifu, by, setting, out, digital, picture, fra...</td>\n",
       "      <td>tifu by setting out digital picture frame tifu...</td>\n",
       "      <td>tifu by setting out digital picture frame tifu...</td>\n",
       "    </tr>\n",
       "  </tbody>\n",
       "</table>\n",
       "</div>"
      ],
      "text/plain": [
       "                                            text_raw  is_tifu  \\\n",
       "0  TIFU By accidentally being racist to an Asian ...        1   \n",
       "1  TIFU by ordering dish towels from Amazon (NSFW...        1   \n",
       "2  TIFU because I told the teacher I like drugs P...        1   \n",
       "3  TIFU by losing my phone and getting picked up ...        1   \n",
       "4  TIFU by setting out a digital picture frame TI...        1   \n",
       "\n",
       "                                          text_token  \\\n",
       "0  [tifu, by, accidentally, being, racist, to, an...   \n",
       "1  [tifu, by, ordering, dish, towels, from, amazo...   \n",
       "2  [tifu, because, told, the, teacher, like, drug...   \n",
       "3  [tifu, by, losing, my, phone, and, getting, pi...   \n",
       "4  [tifu, by, setting, out, digital, picture, fra...   \n",
       "\n",
       "                                           text_base  \\\n",
       "0  tifu by accidentally being racist to an asian ...   \n",
       "1  tifu by ordering dish towels from amazon nsfw ...   \n",
       "2  tifu because told the teacher like drugs prett...   \n",
       "3  tifu by losing my phone and getting picked up ...   \n",
       "4  tifu by setting out digital picture frame tifu...   \n",
       "\n",
       "                                            text_lem  \n",
       "0  tifu by accidentally being racist to an asian ...  \n",
       "1  tifu by ordering dish towel from amazon nsfw o...  \n",
       "2  tifu because told the teacher like drug pretty...  \n",
       "3  tifu by losing my phone and getting picked up ...  \n",
       "4  tifu by setting out digital picture frame tifu...  "
      ]
     },
     "metadata": {},
     "output_type": "display_data"
    }
   ],
   "source": [
    "display(text_df.head())"
   ]
  },
  {
   "cell_type": "code",
   "execution_count": 36,
   "metadata": {},
   "outputs": [
    {
     "name": "stdout",
     "output_type": "stream",
     "text": [
      "tifu by accidentally being racist to an asian friend today fucked up by being racist to my asian friend if were to describe myself culturally would say i'm the renaissance man type i'm humanist by nature amp amp and philanthropist through interest now if were to describe my humor would say i'm cross between jim carry amp amp dave chappell couple of my two favorite comedian so with that said tend to take joy in being involved in the different culture of the world don't have single negative idea for any culture at all because they are all culture of man maybe bit hippy must admit so the dave chapel part come into play because find humor in cultural cue amp amp tick thing that set u apart but make u the same all in all so met with my asian friend few day ago to take some photo of his flipping sweet new haircut see this is where get people in my grip have their full attention amp amp can speak into them if they are open to conversation that is normal conversation typically revolves around advice giving amp amp guidance into the future it's all about building people's confidence up well after the photo shoot do my thing amp amp organize some of the photo we had just taken send him two sample image with different lighting with simple question me hey which photo feel more like you asian friend like the darker one better me ah yeah forgot you where chinese amp amp not korean few minute pas when it dawn on me that just said something completely stupid the whole asian look alike scenario hit me like mac truck in the rain me in regard to face whitening me sorry two hour pas me so uh that joke wa not funny at all i'm sorry to even have said it got caught in the moment trying to be funny yesterday asian friend today asian friend even sent the post to instagram with tag amp amp he ha not shown up to interact yet which he is always quick to so uh think just scared away friend by seemingly being racist jeeez tldr accidentally made joke suggesting asian look alike asian friend hasn't answered in day\n"
     ]
    }
   ],
   "source": [
    "# View first lemmatized text string\n",
    "print(text_df['text_lem'][0])"
   ]
  },
  {
   "cell_type": "code",
   "execution_count": 37,
   "metadata": {},
   "outputs": [
    {
     "name": "stdout",
     "output_type": "stream",
     "text": [
      "favorite | favorites\n",
      "comedian | comedians\n",
      "culture | cultures\n",
      "culture | cultures\n",
      "come | comes\n",
      "cue | cues\n",
      "tick | ticks\n",
      "thing | things\n",
      "u | us\n",
      "u | us\n",
      "day | days\n",
      "photo | photos\n",
      "grip | grips\n",
      "photo | photos\n",
      "sample | samples\n",
      "image | images\n",
      "feel | feels\n",
      "minute | minutes\n",
      "pas | pass\n",
      "dawn | dawns\n",
      "asian | asians\n",
      "hit | hits\n",
      "regard | regards\n",
      "hour | hours\n",
      "pas | pass\n",
      "wa | was\n",
      "ha | has\n",
      "asian | asians\n",
      "day | days\n",
      "\n",
      "Lemmatization has changed 29 words.\n"
     ]
    }
   ],
   "source": [
    "# Print out words that have been changed by Lemmatizer\n",
    "lemmed_words = []\n",
    "for i in range(len(text_df['text_lem'][0].split())): # Looping through all words in the text\n",
    "    if text_df['text_lem'][0].split()[i] != text_df['text_base'][0].split()[i]: # Checking if the word has been changed\n",
    "        lemmed_words.append(text_df['text_lem'][0].split()[i]) # Adding changed word to list\n",
    "        print(f\"{text_df['text_lem'][0].split()[i]} | {text_df['text_base'][0].split()[i]}\") # Print out lemmed and original word\n",
    "print(f\"\\nLemmatization has changed {len(lemmed_words)} words.\") # Identify number of words that have been changed"
   ]
  },
  {
   "cell_type": "markdown",
   "metadata": {},
   "source": [
    "### 2.3 Stemming <a class=\"anchor\" id=\"chapter2_3\"></a>"
   ]
  },
  {
   "cell_type": "code",
   "execution_count": 38,
   "metadata": {},
   "outputs": [],
   "source": [
    "# Instantiate Stemmer\n",
    "p_stemmer = PorterStemmer()"
   ]
  },
  {
   "cell_type": "code",
   "execution_count": 39,
   "metadata": {},
   "outputs": [],
   "source": [
    "# Creating feature with stemmed text\n",
    "text_df['text_stem']=text_df['text_token'].map(lambda x: ' '.join([p_stemmer.stem(word) for word in x]))"
   ]
  },
  {
   "cell_type": "code",
   "execution_count": 40,
   "metadata": {},
   "outputs": [
    {
     "data": {
      "text/html": [
       "<div>\n",
       "<style scoped>\n",
       "    .dataframe tbody tr th:only-of-type {\n",
       "        vertical-align: middle;\n",
       "    }\n",
       "\n",
       "    .dataframe tbody tr th {\n",
       "        vertical-align: top;\n",
       "    }\n",
       "\n",
       "    .dataframe thead th {\n",
       "        text-align: right;\n",
       "    }\n",
       "</style>\n",
       "<table border=\"1\" class=\"dataframe\">\n",
       "  <thead>\n",
       "    <tr style=\"text-align: right;\">\n",
       "      <th></th>\n",
       "      <th>text_raw</th>\n",
       "      <th>is_tifu</th>\n",
       "      <th>text_token</th>\n",
       "      <th>text_base</th>\n",
       "      <th>text_lem</th>\n",
       "      <th>text_stem</th>\n",
       "    </tr>\n",
       "  </thead>\n",
       "  <tbody>\n",
       "    <tr>\n",
       "      <th>0</th>\n",
       "      <td>TIFU By accidentally being racist to an Asian ...</td>\n",
       "      <td>1</td>\n",
       "      <td>[tifu, by, accidentally, being, racist, to, an...</td>\n",
       "      <td>tifu by accidentally being racist to an asian ...</td>\n",
       "      <td>tifu by accidentally being racist to an asian ...</td>\n",
       "      <td>tifu by accident be racist to an asian friend ...</td>\n",
       "    </tr>\n",
       "    <tr>\n",
       "      <th>1</th>\n",
       "      <td>TIFU by ordering dish towels from Amazon (NSFW...</td>\n",
       "      <td>1</td>\n",
       "      <td>[tifu, by, ordering, dish, towels, from, amazo...</td>\n",
       "      <td>tifu by ordering dish towels from amazon nsfw ...</td>\n",
       "      <td>tifu by ordering dish towel from amazon nsfw o...</td>\n",
       "      <td>tifu by order dish towel from amazon nsfw obli...</td>\n",
       "    </tr>\n",
       "    <tr>\n",
       "      <th>2</th>\n",
       "      <td>TIFU because I told the teacher I like drugs P...</td>\n",
       "      <td>1</td>\n",
       "      <td>[tifu, because, told, the, teacher, like, drug...</td>\n",
       "      <td>tifu because told the teacher like drugs prett...</td>\n",
       "      <td>tifu because told the teacher like drug pretty...</td>\n",
       "      <td>tifu becaus told the teacher like drug pretti ...</td>\n",
       "    </tr>\n",
       "    <tr>\n",
       "      <th>3</th>\n",
       "      <td>TIFU by losing my phone and getting picked up ...</td>\n",
       "      <td>1</td>\n",
       "      <td>[tifu, by, losing, my, phone, and, getting, pi...</td>\n",
       "      <td>tifu by losing my phone and getting picked up ...</td>\n",
       "      <td>tifu by losing my phone and getting picked up ...</td>\n",
       "      <td>tifu by lose my phone and get pick up by campu...</td>\n",
       "    </tr>\n",
       "    <tr>\n",
       "      <th>4</th>\n",
       "      <td>TIFU by setting out a digital picture frame TI...</td>\n",
       "      <td>1</td>\n",
       "      <td>[tifu, by, setting, out, digital, picture, fra...</td>\n",
       "      <td>tifu by setting out digital picture frame tifu...</td>\n",
       "      <td>tifu by setting out digital picture frame tifu...</td>\n",
       "      <td>tifu by set out digit pictur frame tifu by set...</td>\n",
       "    </tr>\n",
       "  </tbody>\n",
       "</table>\n",
       "</div>"
      ],
      "text/plain": [
       "                                            text_raw  is_tifu  \\\n",
       "0  TIFU By accidentally being racist to an Asian ...        1   \n",
       "1  TIFU by ordering dish towels from Amazon (NSFW...        1   \n",
       "2  TIFU because I told the teacher I like drugs P...        1   \n",
       "3  TIFU by losing my phone and getting picked up ...        1   \n",
       "4  TIFU by setting out a digital picture frame TI...        1   \n",
       "\n",
       "                                          text_token  \\\n",
       "0  [tifu, by, accidentally, being, racist, to, an...   \n",
       "1  [tifu, by, ordering, dish, towels, from, amazo...   \n",
       "2  [tifu, because, told, the, teacher, like, drug...   \n",
       "3  [tifu, by, losing, my, phone, and, getting, pi...   \n",
       "4  [tifu, by, setting, out, digital, picture, fra...   \n",
       "\n",
       "                                           text_base  \\\n",
       "0  tifu by accidentally being racist to an asian ...   \n",
       "1  tifu by ordering dish towels from amazon nsfw ...   \n",
       "2  tifu because told the teacher like drugs prett...   \n",
       "3  tifu by losing my phone and getting picked up ...   \n",
       "4  tifu by setting out digital picture frame tifu...   \n",
       "\n",
       "                                            text_lem  \\\n",
       "0  tifu by accidentally being racist to an asian ...   \n",
       "1  tifu by ordering dish towel from amazon nsfw o...   \n",
       "2  tifu because told the teacher like drug pretty...   \n",
       "3  tifu by losing my phone and getting picked up ...   \n",
       "4  tifu by setting out digital picture frame tifu...   \n",
       "\n",
       "                                           text_stem  \n",
       "0  tifu by accident be racist to an asian friend ...  \n",
       "1  tifu by order dish towel from amazon nsfw obli...  \n",
       "2  tifu becaus told the teacher like drug pretti ...  \n",
       "3  tifu by lose my phone and get pick up by campu...  \n",
       "4  tifu by set out digit pictur frame tifu by set...  "
      ]
     },
     "metadata": {},
     "output_type": "display_data"
    }
   ],
   "source": [
    "display(text_df.head())"
   ]
  },
  {
   "cell_type": "code",
   "execution_count": 41,
   "metadata": {},
   "outputs": [
    {
     "name": "stdout",
     "output_type": "stream",
     "text": [
      "tifu by accident be racist to an asian friend today fuck up by be racist to my asian friend if were to describ myself cultur would say i'm the renaiss man type i'm humanist by natur amp amp and philanthropist through interest now if were to describ my humor would say i'm cross between jim carri amp amp dave chappel coupl of my two favorit comedian so with that said tend to take joy in be involv in the differ cultur of the world don't have singl neg idea for ani cultur at all becaus they are all cultur of man mayb bit hippi must admit so the dave chapel part come into play becaus find humor in cultur cue amp amp tick thing that set us apart but make us the same all in all so met with my asian friend few day ago to take some photo of hi flip sweet new haircut see thi is where get peopl in my grip have their full attent amp amp can speak into them if they are open to convers that is normal convers typic revolv around advic give amp amp guidanc into the futur it' all about build people' confid up well after the photo shoot do my thing amp amp organ some of the photo we had just taken send him two sampl imag with differ light with simpl question me hey which photo feel more like you asian friend like the darker one better me ah yeah forgot you where chines amp amp not korean few minut pass when it dawn on me that just said someth complet stupid the whole asian look alik scenario hit me like mac truck in the rain me in regard to face whiten me sorri two hour pass me so uh that joke wa not funni at all i'm sorri to even have said it got caught in the moment tri to be funni yesterday asian friend today asian friend even sent the post to instagram with tag amp amp he ha not shown up to interact yet which he is alway quick to so uh think just scare away friend by seemingli be racist jeeez tldr accident made joke suggest asian look alik asian friend hasn't answer in day\n"
     ]
    }
   ],
   "source": [
    "# View first stemmed text string\n",
    "print(text_df['text_stem'][0])"
   ]
  },
  {
   "cell_type": "code",
   "execution_count": 42,
   "metadata": {},
   "outputs": [
    {
     "name": "stdout",
     "output_type": "stream",
     "text": [
      "accident | accidentally\n",
      "be | being\n",
      "fuck | fucked\n",
      "be | being\n",
      "describ | describe\n",
      "cultur | culturally\n",
      "renaiss | renaissance\n",
      "natur | nature\n",
      "describ | describe\n",
      "carri | carry\n",
      "chappel | chappell\n",
      "coupl | couple\n",
      "favorit | favorites\n",
      "comedian | comedians\n",
      "be | being\n",
      "involv | involved\n",
      "differ | different\n",
      "cultur | cultures\n",
      "singl | single\n",
      "neg | negative\n",
      "ani | any\n",
      "cultur | culture\n",
      "becaus | because\n",
      "cultur | cultures\n",
      "mayb | maybe\n",
      "hippi | hippy\n",
      "come | comes\n",
      "becaus | because\n",
      "cultur | cultural\n",
      "cue | cues\n",
      "tick | ticks\n",
      "thing | things\n",
      "day | days\n",
      "photo | photos\n",
      "hi | his\n",
      "flip | flipping\n",
      "thi | this\n",
      "peopl | people\n",
      "grip | grips\n",
      "attent | attention\n",
      "convers | conversation\n",
      "convers | conversation\n",
      "typic | typically\n",
      "revolv | revolves\n",
      "advic | advice\n",
      "give | giving\n",
      "guidanc | guidance\n",
      "futur | future\n",
      "it' | it's\n",
      "build | building\n",
      "people' | people's\n",
      "confid | confidence\n",
      "organ | organize\n",
      "photo | photos\n",
      "sampl | samples\n",
      "imag | images\n",
      "differ | different\n",
      "light | lighting\n",
      "simpl | simple\n",
      "feel | feels\n",
      "chines | chinese\n",
      "minut | minutes\n",
      "dawn | dawns\n",
      "someth | something\n",
      "complet | completely\n",
      "asian | asians\n",
      "alik | alike\n",
      "hit | hits\n",
      "regard | regards\n",
      "whiten | whitening\n",
      "sorri | sorry\n",
      "hour | hours\n",
      "wa | was\n",
      "funni | funny\n",
      "sorri | sorry\n",
      "tri | trying\n",
      "funni | funny\n",
      "ha | has\n",
      "alway | always\n",
      "scare | scared\n",
      "seemingli | seemingly\n",
      "be | being\n",
      "accident | accidentally\n",
      "suggest | suggesting\n",
      "asian | asians\n",
      "alik | alike\n",
      "answer | answered\n",
      "day | days\n",
      "\n",
      "Stemming has changed 88 words.\n"
     ]
    }
   ],
   "source": [
    "# Print out words that have been changed by Lemmatizer\n",
    "stemmed_words = []\n",
    "for i in range(len(text_df['text_stem'][0].split())): # Looping through all words in the text\n",
    "    if text_df['text_stem'][0].split()[i] != text_df['text_base'][0].split()[i]: # Checking if the word has been changed\n",
    "        stemmed_words.append(text_df['text_stem'][0].split()[i]) # Adding changed word to list\n",
    "        print(f\"{text_df['text_stem'][0].split()[i]} | {text_df['text_base'][0].split()[i]}\") # Print out stemmed and original word\n",
    "print(f\"\\nStemming has changed {len(stemmed_words)} words.\") # Identify number of words that have been changed"
   ]
  },
  {
   "cell_type": "markdown",
   "metadata": {},
   "source": [
    "## 3. Text Feature Extraction <a class=\"anchor\" id=\"chapter3\"></a>\n",
    "---"
   ]
  },
  {
   "cell_type": "markdown",
   "metadata": {},
   "source": [
    "In order to run the text through a classification model, the text needs to first be extracted into features. The two feature extractions tools to be used are:\n",
    "- `CountVectorizer`\n",
    "- `TfidVectorizer`"
   ]
  },
  {
   "cell_type": "markdown",
   "metadata": {},
   "source": [
    "### 3.1 Defining Function <a class=\"anchor\" id=\"chapter3_1\"></a>"
   ]
  },
  {
   "cell_type": "markdown",
   "metadata": {},
   "source": [
    "A function will be defined to run the data through a both text feature extraction tools and plot the top 20 words for each feature exraction in the respective subreddits."
   ]
  },
  {
   "cell_type": "code",
   "execution_count": 43,
   "metadata": {},
   "outputs": [],
   "source": [
    "def plt_top_20(data):\n",
    "    cvec = CountVectorizer(stop_words='english') # Instantiate CountVectorizer with English stop words\n",
    "    words_cv = cvec.fit_transform(data) # Fit and transform the data\n",
    "    words_cv_df = pd.DataFrame(words_cv.todense(), columns = cvec.get_feature_names()) # Put data into DataFrame\n",
    "    words_cv_count = words_cv_df.sum(axis=0) # Get the count of words for cvec\n",
    "    \n",
    "    tvec = TfidfVectorizer(stop_words='english') #Instantiate TfidVectorizer with English stop words\n",
    "    words_tv = tvec.fit_transform(data) # Fit and transform the data\n",
    "    words_tv_df = pd.DataFrame(words_tv.todense(), columns = tvec.get_feature_names()) # Put data into DataFrame\n",
    "    words_tv_count = words_tv_df.sum(axis=0) # Get the count of words for tvec\n",
    "    \n",
    "    plt.figure(figsize=(20,15)) # Create figure plot size\n",
    "    \n",
    "    plt.subplot(2,2,1) # Subplot for cvec\n",
    "    words_cv_count.sort_values().tail(20).plot(kind='barh') # Plotting top 20 words using bar historgram\n",
    "    plt.title('Top 20 words in CVEC',fontsize = 15)\n",
    "    plt.xlabel('Count')\n",
    "    plt.ylabel('Word')\n",
    "    \n",
    "    plt.subplot(2,2,2) # Subplot for tvec\n",
    "    words_tv_count.sort_values().tail(20).plot(kind='barh') # Plotting top 20 words using bar historgram\n",
    "    plt.title('Top 20 words in TFID',fontsize = 15)\n",
    "    plt.xlabel('Count')\n",
    "    plt.ylabel('Word')\n",
    "    \n",
    "    plt.tight_layout()"
   ]
  },
  {
   "cell_type": "markdown",
   "metadata": {},
   "source": [
    "### 3.1 Results and Analysis <a class=\"anchor\" id=\"chapter3_2\"></a>"
   ]
  },
  {
   "cell_type": "code",
   "execution_count": 44,
   "metadata": {},
   "outputs": [],
   "source": [
    "# Creating variables for /r/tifu and /r/confessions data\n",
    "tifu_data = text_df[text_df['is_tifu']==1]['text_base']\n",
    "confessions_data = text_df[text_df['is_tifu']==0]['text_base']"
   ]
  },
  {
   "cell_type": "code",
   "execution_count": 45,
   "metadata": {},
   "outputs": [
    {
     "data": {
      "image/png": "[encoded data removed]",
      "text/plain": [
       "<Figure size 1440x1080 with 2 Axes>"
      ]
     },
     "metadata": {
      "needs_background": "light"
     },
     "output_type": "display_data"
    }
   ],
   "source": [
    "# Plot top 20 words for /r/tifu\n",
    "plt_top_20(tifu_data)\n",
    "plt.savefig('../assets/top_20_tifu.png')"
   ]
  },
  {
   "cell_type": "code",
   "execution_count": 46,
   "metadata": {},
   "outputs": [
    {
     "data": {
      "image/png": "[encoded data removed]",
      "text/plain": [
       "<Figure size 1440x1080 with 2 Axes>"
      ]
     },
     "metadata": {
      "needs_background": "light"
     },
     "output_type": "display_data"
    }
   ],
   "source": [
    "# Plot top 20 words for /r/confessions\n",
    "plt_top_20(confessions_data)\n",
    "plt.savefig('../assets/top_20_confessions.png')"
   ]
  },
  {
   "cell_type": "markdown",
   "metadata": {},
   "source": [
    "From the top 20 words observed, even though the built in English stop words lists were used in the text feature extraction tools, there are still a lot of words in the top 20 list that are used more as link words such as `just`, `like`, `got` etc. \n",
    "\n",
    "These words do not have any particular relation to either subreddit as the nature of the subreddit is composed of stories, where people expressing their stories could be using a lot more of these words. As it is currently inconclusive, there will be no further removal of such words before testing the model."
   ]
  },
  {
   "cell_type": "markdown",
   "metadata": {},
   "source": [
    "## 4. Export Data <a class=\"anchor\" id=\"chapter4\"></a>\n",
    "---"
   ]
  },
  {
   "cell_type": "markdown",
   "metadata": {},
   "source": [
    "The data now contains 3 versions of text\n",
    "- `text_base`: Tokenized text to be used for model selection\n",
    "- `text_lem` : Lemmatized tokens to be used for model evaluation\n",
    "- `text_stem` : Stemmed tokens to be used for model evaluation\n",
    "\n",
    "Given these 3 versions of text, a classification model can now be created to be evaluated if natural language processing can be used to classify similarly written posts (story categories) into two different subreddits."
   ]
  },
  {
   "cell_type": "code",
   "execution_count": 207,
   "metadata": {},
   "outputs": [],
   "source": [
    "text_df.to_csv('../data/processed_text.csv',index=False) # Export data"
   ]
  }
 ],
 "metadata": {
  "kernelspec": {
   "display_name": "Python 3",
   "language": "python",
   "name": "python3"
  },
  "language_info": {
   "codemirror_mode": {
    "name": "ipython",
    "version": 3
   },
   "file_extension": ".py",
   "mimetype": "text/x-python",
   "name": "python",
   "nbconvert_exporter": "python",
   "pygments_lexer": "ipython3",
   "version": "3.8.3"
  }
 },
 "nbformat": 4,
 "nbformat_minor": 4
}
